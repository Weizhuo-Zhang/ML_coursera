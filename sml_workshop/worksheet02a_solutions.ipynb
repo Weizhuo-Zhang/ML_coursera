{
  "nbformat": 4,
  "nbformat_minor": 0,
  "metadata": {
    "kernelspec": {
      "display_name": "Python 3",
      "language": "python",
      "name": "python3"
    },
    "language_info": {
      "codemirror_mode": {
        "name": "ipython",
        "version": 3
      },
      "file_extension": ".py",
      "mimetype": "text/x-python",
      "name": "python",
      "nbconvert_exporter": "python",
      "pygments_lexer": "ipython3",
      "version": "3.6.6"
    },
    "colab": {
      "name": "worksheet02a_solutions.ipynb",
      "version": "0.3.2",
      "provenance": [],
      "include_colab_link": true
    }
  },
  "cells": [
    {
      "cell_type": "markdown",
      "metadata": {
        "id": "view-in-github",
        "colab_type": "text"
      },
      "source": [
        "<a href=\"https://colab.research.google.com/github/Weizhuo-Zhang/ML_coursera/blob/master/sml_workshop/worksheet02a_solutions.ipynb\" target=\"_parent\"><img src=\"https://colab.research.google.com/assets/colab-badge.svg\" alt=\"Open In Colab\"/></a>"
      ]
    },
    {
      "cell_type": "markdown",
      "metadata": {
        "id": "T_EuMLjkcRBh",
        "colab_type": "text"
      },
      "source": [
        "# COMP90051 Workshop 2\n",
        "## Part A: Linear regression\n",
        "\n",
        "***\n",
        "\n",
        "Our aim for this part of the workshop is to fit a linear model from scratch—relying only on the `numpy` library. We'll experiment with two implementations: one based on iterative updates (coordinate descent) and another based on linear algebra. Finally, to check the correctness of our implementation, we'll compare its output to the output of `sklearn`.\n",
        "\n",
        "Firstly we will import the relevant libraries (`numpy`, `matplotlib`, etc.)."
      ]
    },
    {
      "cell_type": "code",
      "metadata": {
        "id": "v3jhj3ECcRBi",
        "colab_type": "code",
        "colab": {}
      },
      "source": [
        "%matplotlib inline\n",
        "import numpy as np\n",
        "import matplotlib.pyplot as plt\n",
        "import io"
      ],
      "execution_count": 0,
      "outputs": []
    },
    {
      "cell_type": "markdown",
      "metadata": {
        "id": "EvYg15WxcRBm",
        "colab_type": "text"
      },
      "source": [
        "To check what a command does simply type `object?`. For example:"
      ]
    },
    {
      "cell_type": "code",
      "metadata": {
        "id": "APDmkp1McRBm",
        "colab_type": "code",
        "colab": {}
      },
      "source": [
        "np.arange?"
      ],
      "execution_count": 0,
      "outputs": []
    },
    {
      "cell_type": "markdown",
      "metadata": {
        "id": "l4bpLVDKcRBq",
        "colab_type": "text"
      },
      "source": [
        "### 1. Review\n",
        "In lectures, we saw that a linear model can be expressed as:\n",
        "$$y = w_0 + \\sum_{j = 1}^{m} w_j x_j = \\mathbf{w} \\cdot \\mathbf{x} $$\n",
        "where \n",
        "\n",
        "* $y$ is the *target variable*;\n",
        "* $\\mathbf{x} = [x_1, \\ldots, x_m]$ is a vector of *features* (we define $x_0 = 1$); and\n",
        "* $\\mathbf{w} = [w_0, \\ldots, w_m]$ are the *weights*.\n",
        "\n",
        "To fit the model, we *minimise* the empirical risk with respect to $\\vec{w}$. In this simplest case (square loss), this amounts to minimising the sum of squared residuals:\n",
        "\n",
        "$$SSR(\\mathbf{w}) = \\sum_{i=1}^{n}(y_i - \\mathbf{w} \\cdot \\mathbf{x}_i)^2$$\n",
        "\n",
        "**Note:** For simplicity, we'll consider the case $m = 1$ (i.e. only one feature excluding the intercept)."
      ]
    },
    {
      "cell_type": "markdown",
      "metadata": {
        "id": "k3u2vmFvcRBq",
        "colab_type": "text"
      },
      "source": [
        "### 2. Data set\n",
        "We'll be working with some data from the Olympics—the gold medal race times for marathon winners from 1896 to 2012. The code block below reads the data into a numpy array of floats, and prints the result."
      ]
    },
    {
      "cell_type": "code",
      "metadata": {
        "id": "IM_pax_vcRBr",
        "colab_type": "code",
        "outputId": "f934f6d2-cd71-4c31-e1e9-38515450b43b",
        "colab": {
          "base_uri": "https://localhost:8080/",
          "height": 476
        }
      },
      "source": [
        "# CSV file with variables YEAR,TIME\n",
        "csv = \"\"\"1896,4.47083333333333\n",
        "1900,4.46472925981123\n",
        "1904,5.22208333333333\n",
        "1908,4.1546786744085\n",
        "1912,3.90331674958541\n",
        "1920,3.5695126705653\n",
        "1924,3.8245447722874\n",
        "1928,3.62483706600308\n",
        "1932,3.59284275388079\n",
        "1936,3.53880791562981\n",
        "1948,3.6701030927835\n",
        "1952,3.39029110874116\n",
        "1956,3.43642611683849\n",
        "1960,3.2058300746534\n",
        "1964,3.13275664573212\n",
        "1968,3.32819844373346\n",
        "1972,3.13583757949204\n",
        "1976,3.07895880238575\n",
        "1980,3.10581822490816\n",
        "1984,3.06552909112454\n",
        "1988,3.09357348817\n",
        "1992,3.16111703598373\n",
        "1996,3.14255243512264\n",
        "2000,3.08527866650867\n",
        "2004,3.1026582928467\n",
        "2008,2.99877552632618\n",
        "2012,3.03392977050993\"\"\"\n",
        "\n",
        "# Read into a numpy array (as floats)\n",
        "olympics = np.genfromtxt(io.BytesIO(csv.encode()), delimiter=\",\")\n",
        "print(olympics)"
      ],
      "execution_count": 0,
      "outputs": [
        {
          "output_type": "stream",
          "text": [
            "[[1896.            4.47083333]\n",
            " [1900.            4.46472926]\n",
            " [1904.            5.22208333]\n",
            " [1908.            4.15467867]\n",
            " [1912.            3.90331675]\n",
            " [1920.            3.56951267]\n",
            " [1924.            3.82454477]\n",
            " [1928.            3.62483707]\n",
            " [1932.            3.59284275]\n",
            " [1936.            3.53880792]\n",
            " [1948.            3.67010309]\n",
            " [1952.            3.39029111]\n",
            " [1956.            3.43642612]\n",
            " [1960.            3.20583007]\n",
            " [1964.            3.13275665]\n",
            " [1968.            3.32819844]\n",
            " [1972.            3.13583758]\n",
            " [1976.            3.0789588 ]\n",
            " [1980.            3.10581822]\n",
            " [1984.            3.06552909]\n",
            " [1988.            3.09357349]\n",
            " [1992.            3.16111704]\n",
            " [1996.            3.14255244]\n",
            " [2000.            3.08527867]\n",
            " [2004.            3.10265829]\n",
            " [2008.            2.99877553]\n",
            " [2012.            3.03392977]]\n"
          ],
          "name": "stdout"
        }
      ]
    },
    {
      "cell_type": "markdown",
      "metadata": {
        "id": "8ArYlui3cRBt",
        "colab_type": "text"
      },
      "source": [
        "We'll take the race time as the *target variable* $y$ and the year of the race as the only non-trivial *feature* $x = x_1$."
      ]
    },
    {
      "cell_type": "code",
      "metadata": {
        "id": "3bs9hiDScRBu",
        "colab_type": "code",
        "colab": {}
      },
      "source": [
        "x = olympics[:, 0:1]\n",
        "y = olympics[:, 1:2]"
      ],
      "execution_count": 0,
      "outputs": []
    },
    {
      "cell_type": "markdown",
      "metadata": {
        "id": "BN1Y4daqcRBw",
        "colab_type": "text"
      },
      "source": [
        "Plotting $y$ vs $x$, we see that a linear model could be a decent fit for this data."
      ]
    },
    {
      "cell_type": "code",
      "metadata": {
        "scrolled": true,
        "id": "MdeHJMEPcRBx",
        "colab_type": "code",
        "outputId": "ae9a2d99-8784-422b-b08e-ba4c63528159",
        "colab": {
          "base_uri": "https://localhost:8080/",
          "height": 283
        }
      },
      "source": [
        "plt.plot(x, y, 'rx')\n",
        "plt.ylabel(\"y (Race time)\")\n",
        "plt.xlabel(\"x (Year of race)\")\n",
        "plt.show()"
      ],
      "execution_count": 0,
      "outputs": [
        {
          "output_type": "display_data",
          "data": {
            "image/png": "[encoded data removed]",
            "text/plain": [
              "<Figure size 432x288 with 1 Axes>"
            ]
          },
          "metadata": {
            "tags": []
          }
        }
      ]
    },
    {
      "cell_type": "markdown",
      "metadata": {
        "id": "JTvbFlZgcRBz",
        "colab_type": "text"
      },
      "source": [
        "### 3. Iterative solution (coordinate descent)"
      ]
    },
    {
      "cell_type": "markdown",
      "metadata": {
        "id": "Zat2TzLfcRBz",
        "colab_type": "text"
      },
      "source": [
        "Expanding out the sum of square residuals for this simple case (where $\\mathbf{w}=[w_0, w_1]$) we have:\n",
        "$$SSR(w_0, w_1) = \\sum_{i=1}^{n}(y_i - w_0 - w_1 x_i)^2$$\n",
        "Let's start with an initial guess for the slope $w_1$ (which is clearly negative from the plot)."
      ]
    },
    {
      "cell_type": "code",
      "metadata": {
        "id": "DG1qXjPucRB0",
        "colab_type": "code",
        "colab": {}
      },
      "source": [
        "w1 = -0.4"
      ],
      "execution_count": 0,
      "outputs": []
    },
    {
      "cell_type": "markdown",
      "metadata": {
        "id": "TQY-An20cRB2",
        "colab_type": "text"
      },
      "source": [
        "Then using the maximum likelihood update, we get the following estimate for the intercept $w_0$:\n",
        "$$w_0 = \\frac{\\sum_{i=1}^{n}(y_i-w_1 x_i)}{n}$$"
      ]
    },
    {
      "cell_type": "code",
      "metadata": {
        "id": "OoaRvZfgcRB2",
        "colab_type": "code",
        "outputId": "705f3287-d84e-4d78-fdd1-063f2ad0cfe1",
        "colab": {
          "base_uri": "https://localhost:8080/",
          "height": 34
        }
      },
      "source": [
        "def update_w0(x, y, w1):\n",
        "    return (y - w1*x).mean()\n",
        "\n",
        "w0 = update_w0(x, y, w1)\n",
        "print(w0)"
      ],
      "execution_count": 0,
      "outputs": [
        {
          "output_type": "stream",
          "text": [
            "786.0197711453593\n"
          ],
          "name": "stdout"
        }
      ]
    },
    {
      "cell_type": "markdown",
      "metadata": {
        "id": "DXDStTSFcRB5",
        "colab_type": "text"
      },
      "source": [
        "Similarly, we can update $w_1$ based on this new estimate of $w_0$:\n",
        "$$w_1 = \\frac{\\sum_{i=1}^{n} (y_i - w_0) \\times x_i}{\\sum_{i=1}^{n} x_i^2}$$"
      ]
    },
    {
      "cell_type": "code",
      "metadata": {
        "id": "xQFev2AXcRB6",
        "colab_type": "code",
        "outputId": "91a3ef47-8d1c-4a0c-86ca-f22607cb1a7a",
        "colab": {
          "base_uri": "https://localhost:8080/",
          "height": 34
        }
      },
      "source": [
        "def update_w1(x, y, w0):\n",
        "    return ((y - w0)*x).sum()/(x**2).sum()\n",
        "\n",
        "w1 = update_w1(x, y, w0)\n",
        "print(w1)"
      ],
      "execution_count": 0,
      "outputs": [
        {
          "output_type": "stream",
          "text": [
            "-0.3998724072997095\n"
          ],
          "name": "stdout"
        }
      ]
    },
    {
      "cell_type": "markdown",
      "metadata": {
        "id": "l8wt8i-wcRB8",
        "colab_type": "text"
      },
      "source": [
        "Let's examine the quality of fit for these values for the weights $w_0$ and $w_1$. We create a vector of \"test\" values `x_test` and a function to compute the predictions according to the model."
      ]
    },
    {
      "cell_type": "code",
      "metadata": {
        "id": "zi3QugYgcRB8",
        "colab_type": "code",
        "colab": {}
      },
      "source": [
        "x_test = np.arange(1890, 2020)[:, None]\n",
        "\n",
        "def predict(x_test, w0, w1): \n",
        "    return w0 + w1 * x_test"
      ],
      "execution_count": 0,
      "outputs": []
    },
    {
      "cell_type": "markdown",
      "metadata": {
        "id": "-J2WHF_5cRB-",
        "colab_type": "text"
      },
      "source": [
        "Now plot the test predictions with a blue line on the same plot as the data."
      ]
    },
    {
      "cell_type": "code",
      "metadata": {
        "id": "GaK06VqpcRB_",
        "colab_type": "code",
        "outputId": "8da8e2a0-3df1-4857-df3a-9e6f0eeaaa93",
        "colab": {
          "base_uri": "https://localhost:8080/",
          "height": 283
        }
      },
      "source": [
        "def plot_fit(x_test, y_test, x, y): \n",
        "    plt.plot(x_test, y_test, 'b-')\n",
        "    plt.plot(x, y, 'rx')\n",
        "    plt.ylabel(\"y (Race time)\")\n",
        "    plt.xlabel(\"x (Year of race)\")\n",
        "    plt.show()\n",
        "\n",
        "plot_fit(x_test, predict(x_test, w0, w1), x, y)"
      ],
      "execution_count": 0,
      "outputs": [
        {
          "output_type": "display_data",
          "data": {
            "image/png": "[encoded data removed]",
            "text/plain": [
              "<Figure size 432x288 with 1 Axes>"
            ]
          },
          "metadata": {
            "tags": []
          }
        }
      ]
    },
    {
      "cell_type": "markdown",
      "metadata": {
        "id": "WeboQFqEcRCA",
        "colab_type": "text"
      },
      "source": [
        "We'll compute the sum of square residuals $SSR(w_0,w_1)$ on the training set to measure the goodness of fit."
      ]
    },
    {
      "cell_type": "code",
      "metadata": {
        "id": "NYV2HhpwcRCB",
        "colab_type": "code",
        "outputId": "cbcbc6a6-02e4-4cd7-860d-0397a2654516",
        "colab": {
          "base_uri": "https://localhost:8080/",
          "height": 34
        }
      },
      "source": [
        "def compute_SSR(x, y, w0, w1): \n",
        "    return ((y - w0 - w1*x)**2).sum()\n",
        "\n",
        "print(compute_SSR(x, y, w0, w1))"
      ],
      "execution_count": 0,
      "outputs": [
        {
          "output_type": "stream",
          "text": [
            "5104.580163103217\n"
          ],
          "name": "stdout"
        }
      ]
    },
    {
      "cell_type": "markdown",
      "metadata": {
        "id": "sffza6ZtcRCD",
        "colab_type": "text"
      },
      "source": [
        "It's obvious from the plot that the fit isn't very good. \n",
        "We must repeat the alternating parameter updates many times before the algorithm converges to the optimal weights."
      ]
    },
    {
      "cell_type": "code",
      "metadata": {
        "id": "6dhmqYxYcRCD",
        "colab_type": "code",
        "outputId": "16251067-ecb1-47b5-acf6-9864b8ed879d",
        "colab": {}
      },
      "source": [
        "for i in np.arange(10000):\n",
        "    w1 = update_w1(x, y, w0) \n",
        "    w0 = update_w0(x, y, w1) \n",
        "    if i % 500 == 0:\n",
        "        print(\"Iteration #{}: SSR = {}\".format(i, compute_SSR(x, y, w0, w1)))\n",
        "print(\"Final estimates: w0 = {}; w1 = {}\".format(w0, w1))"
      ],
      "execution_count": 0,
      "outputs": [
        {
          "output_type": "stream",
          "text": [
            "Iteration #0: SSR = 5102.897935763439\n",
            "Iteration #500: SSR = 3670.1237324136036\n",
            "Iteration #1000: SSR = 2639.7951157414004\n",
            "Iteration #1500: SSR = 1898.870931140823\n",
            "Iteration #2000: SSR = 1366.0616521953518\n",
            "Iteration #2500: SSR = 982.9108067637796\n",
            "Iteration #3000: SSR = 707.3815017083582\n",
            "Iteration #3500: SSR = 509.24440022600925\n",
            "Iteration #4000: SSR = 366.76114975678183\n",
            "Iteration #4500: SSR = 264.29938710660775\n",
            "Iteration #5000: SSR = 190.6176541954955\n",
            "Iteration #5500: SSR = 137.6320562088593\n",
            "Iteration #6000: SSR = 99.52934766658781\n",
            "Iteration #6500: SSR = 72.12913980966421\n",
            "Iteration #7000: SSR = 52.42525472313143\n",
            "Iteration #7500: SSR = 38.2559064637811\n",
            "Iteration #8000: SSR = 28.066523547010338\n",
            "Iteration #8500: SSR = 20.73919117263098\n",
            "Iteration #9000: SSR = 15.470000666868614\n",
            "Iteration #9500: SSR = 11.680849695214238\n",
            "Final estimates: w0 = 56.89456037769841; w1 = -0.027293057729518334\n"
          ],
          "name": "stdout"
        }
      ]
    },
    {
      "cell_type": "markdown",
      "metadata": {
        "id": "Bc79p_pAcRCH",
        "colab_type": "text"
      },
      "source": [
        "Let's try plotting the result again."
      ]
    },
    {
      "cell_type": "code",
      "metadata": {
        "id": "1y6-QRPtcRCI",
        "colab_type": "code",
        "outputId": "37857b6b-6543-4c24-8074-fb335f3067ad",
        "colab": {}
      },
      "source": [
        "plot_fit(x_test, predict(x_test, w0, w1), x, y)"
      ],
      "execution_count": 0,
      "outputs": [
        {
          "output_type": "display_data",
          "data": {
            "image/png": "[encoded data removed]",
            "text/plain": [
              "<Figure size 432x288 with 1 Axes>"
            ]
          },
          "metadata": {
            "tags": []
          }
        }
      ]
    },
    {
      "cell_type": "markdown",
      "metadata": {
        "id": "3jiUu_qFcRCJ",
        "colab_type": "text"
      },
      "source": [
        "Does more than 10 iterations considerably improve fit in this case?"
      ]
    },
    {
      "cell_type": "markdown",
      "metadata": {
        "id": "YWyV0JQYcRCK",
        "colab_type": "text"
      },
      "source": [
        "### 4. Linear algebra solution"
      ]
    },
    {
      "cell_type": "markdown",
      "metadata": {
        "id": "MbSviRv2cRCL",
        "colab_type": "text"
      },
      "source": [
        "In lectures, we saw that it's possible to solve for the optimal weights $\\mathbf{w}^\\star$ analytically. The solution is\n",
        "$$\\mathbf{w}^* = \\left[\\mathbf{X}^\\top \\mathbf{X}\\right]^{-1} \\mathbf{X}^\\top \\mathbf{y}$$\n",
        "where\n",
        "$$\\mathbf{X} = \\begin{pmatrix} \n",
        "        1 & x_1 \\\\ 1 & x_2 \\\\ \\vdots & \\vdots \\\\ 1 & x_n \n",
        "    \\end{pmatrix} \n",
        "  \\quad \\text{and} \\quad \n",
        "  \\mathbf{y} = \\begin{pmatrix} \n",
        "          y_1 \\\\ y_2 \\\\ \\vdots \\\\ y_n\n",
        "      \\end{pmatrix}\n",
        "$$\n",
        "\n",
        "We construct $\\mathbf{X}$ in the code block below, remembering to include the $x_0 = 1$ column for the bias (intercept)."
      ]
    },
    {
      "cell_type": "code",
      "metadata": {
        "id": "fB4ixf0TcRCL",
        "colab_type": "code",
        "outputId": "f7090624-d4c2-41c4-ac7f-a9ad1f8a904d",
        "colab": {}
      },
      "source": [
        "X = np.hstack((np.ones_like(x), x))\n",
        "print(X)"
      ],
      "execution_count": 0,
      "outputs": [
        {
          "output_type": "stream",
          "text": [
            "[[1.000e+00 1.896e+03]\n",
            " [1.000e+00 1.900e+03]\n",
            " [1.000e+00 1.904e+03]\n",
            " [1.000e+00 1.908e+03]\n",
            " [1.000e+00 1.912e+03]\n",
            " [1.000e+00 1.920e+03]\n",
            " [1.000e+00 1.924e+03]\n",
            " [1.000e+00 1.928e+03]\n",
            " [1.000e+00 1.932e+03]\n",
            " [1.000e+00 1.936e+03]\n",
            " [1.000e+00 1.948e+03]\n",
            " [1.000e+00 1.952e+03]\n",
            " [1.000e+00 1.956e+03]\n",
            " [1.000e+00 1.960e+03]\n",
            " [1.000e+00 1.964e+03]\n",
            " [1.000e+00 1.968e+03]\n",
            " [1.000e+00 1.972e+03]\n",
            " [1.000e+00 1.976e+03]\n",
            " [1.000e+00 1.980e+03]\n",
            " [1.000e+00 1.984e+03]\n",
            " [1.000e+00 1.988e+03]\n",
            " [1.000e+00 1.992e+03]\n",
            " [1.000e+00 1.996e+03]\n",
            " [1.000e+00 2.000e+03]\n",
            " [1.000e+00 2.004e+03]\n",
            " [1.000e+00 2.008e+03]\n",
            " [1.000e+00 2.012e+03]]\n"
          ],
          "name": "stdout"
        }
      ]
    },
    {
      "cell_type": "markdown",
      "metadata": {
        "id": "oQvFGczdcRCN",
        "colab_type": "text"
      },
      "source": [
        "Although we can express $\\mathbf{w}^\\star$ explicitly in terms of the matrix inverse $(\\mathbf{X}^\\top \\mathbf{X})^{-1}$, this isn't an efficient way to compute $\\mathbf{w}$ numerically. It is better instead to solve the following system of linear equations:\n",
        "$$\\mathbf{X}^\\top\\mathbf{X} \\mathbf{w}^\\star = \\mathbf{X}^\\top\\mathbf{y}$$\n",
        "\n",
        "This can be done in numpy using the command"
      ]
    },
    {
      "cell_type": "code",
      "metadata": {
        "id": "RYQALo_tcRCO",
        "colab_type": "code",
        "outputId": "eb1fc1b6-903f-4350-c627-9582e99a8baa",
        "colab": {}
      },
      "source": [
        "np.linalg.solve?"
      ],
      "execution_count": 0,
      "outputs": [
        {
          "output_type": "display_data",
          "data": {
            "text/plain": [
              "\u001b[0;31mSignature:\u001b[0m \u001b[0mnp\u001b[0m\u001b[0;34m.\u001b[0m\u001b[0mlinalg\u001b[0m\u001b[0;34m.\u001b[0m\u001b[0msolve\u001b[0m\u001b[0;34m(\u001b[0m\u001b[0ma\u001b[0m\u001b[0;34m,\u001b[0m \u001b[0mb\u001b[0m\u001b[0;34m)\u001b[0m\u001b[0;34m\u001b[0m\u001b[0m\n",
              "\u001b[0;31mDocstring:\u001b[0m\n",
              "Solve a linear matrix equation, or system of linear scalar equations.\n",
              "\n",
              "Computes the \"exact\" solution, `x`, of the well-determined, i.e., full\n",
              "rank, linear matrix equation `ax = b`.\n",
              "\n",
              "Parameters\n",
              "----------\n",
              "a : (..., M, M) array_like\n",
              "    Coefficient matrix.\n",
              "b : {(..., M,), (..., M, K)}, array_like\n",
              "    Ordinate or \"dependent variable\" values.\n",
              "\n",
              "Returns\n",
              "-------\n",
              "x : {(..., M,), (..., M, K)} ndarray\n",
              "    Solution to the system a x = b.  Returned shape is identical to `b`.\n",
              "\n",
              "Raises\n",
              "------\n",
              "LinAlgError\n",
              "    If `a` is singular or not square.\n",
              "\n",
              "Notes\n",
              "-----\n",
              "\n",
              ".. versionadded:: 1.8.0\n",
              "\n",
              "Broadcasting rules apply, see the `numpy.linalg` documentation for\n",
              "details.\n",
              "\n",
              "The solutions are computed using LAPACK routine _gesv\n",
              "\n",
              "`a` must be square and of full-rank, i.e., all rows (or, equivalently,\n",
              "columns) must be linearly independent; if either is not true, use\n",
              "`lstsq` for the least-squares best \"solution\" of the\n",
              "system/equation.\n",
              "\n",
              "References\n",
              "----------\n",
              ".. [1] G. Strang, *Linear Algebra and Its Applications*, 2nd Ed., Orlando,\n",
              "       FL, Academic Press, Inc., 1980, pg. 22.\n",
              "\n",
              "Examples\n",
              "--------\n",
              "Solve the system of equations ``3 * x0 + x1 = 9`` and ``x0 + 2 * x1 = 8``:\n",
              "\n",
              ">>> a = np.array([[3,1], [1,2]])\n",
              ">>> b = np.array([9,8])\n",
              ">>> x = np.linalg.solve(a, b)\n",
              ">>> x\n",
              "array([ 2.,  3.])\n",
              "\n",
              "Check that the solution is correct:\n",
              "\n",
              ">>> np.allclose(np.dot(a, x), b)\n",
              "True\n",
              "\u001b[0;31mFile:\u001b[0m      /usr/lib64/python3.6/site-packages/numpy/linalg/linalg.py\n",
              "\u001b[0;31mType:\u001b[0m      function\n"
            ]
          },
          "metadata": {
            "tags": []
          }
        }
      ]
    },
    {
      "cell_type": "markdown",
      "metadata": {
        "id": "rSnj8iCtcRCR",
        "colab_type": "text"
      },
      "source": [
        "which gives"
      ]
    },
    {
      "cell_type": "code",
      "metadata": {
        "id": "5Q5YmFSbcRCT",
        "colab_type": "code",
        "outputId": "9f3c29ad-49b4-4573-be7f-1e843ebb54a6",
        "colab": {}
      },
      "source": [
        "w = np.linalg.solve(np.dot(X.T, X), np.dot(X.T, y))\n",
        "print(w)"
      ],
      "execution_count": 0,
      "outputs": [
        {
          "output_type": "stream",
          "text": [
            "[[ 2.88952457e+01]\n",
            " [-1.29806477e-02]]\n"
          ],
          "name": "stdout"
        }
      ]
    },
    {
      "cell_type": "markdown",
      "metadata": {
        "id": "mDpK8bpYcRCV",
        "colab_type": "text"
      },
      "source": [
        "Plotting this solution, as before:"
      ]
    },
    {
      "cell_type": "code",
      "metadata": {
        "id": "Yd2OkJ-scRCV",
        "colab_type": "code",
        "outputId": "fd7c2a7f-5f7c-4a14-e826-0427f2fc9a9c",
        "colab": {}
      },
      "source": [
        "w0, w1 = w\n",
        "plot_fit(x_test, predict(x_test, w0, w1), x, y)"
      ],
      "execution_count": 0,
      "outputs": [
        {
          "output_type": "display_data",
          "data": {
            "image/png": "[encoded data removed]",
            "text/plain": [
              "<Figure size 432x288 with 1 Axes>"
            ]
          },
          "metadata": {
            "tags": []
          }
        }
      ]
    },
    {
      "cell_type": "markdown",
      "metadata": {
        "id": "pW1rkqzLcRCX",
        "colab_type": "text"
      },
      "source": [
        "You should verify that the sum of squared residuals $SSR(w_0, w_1)$, match or beats the earlier iterative result."
      ]
    },
    {
      "cell_type": "code",
      "metadata": {
        "id": "lZnhQ1mIcRCY",
        "colab_type": "code",
        "outputId": "bd7ae276-f605-4a99-84eb-08dce8203dd1",
        "colab": {}
      },
      "source": [
        "print(compute_SSR(x, y, w0, w1))"
      ],
      "execution_count": 0,
      "outputs": [
        {
          "output_type": "stream",
          "text": [
            "1.979983768923164\n"
          ],
          "name": "stdout"
        }
      ]
    },
    {
      "cell_type": "markdown",
      "metadata": {
        "id": "qKBDYo3mcRCa",
        "colab_type": "text"
      },
      "source": [
        "**Note:** The error we computed above is the *training* error. It doesn't assess the model's generalization ability, it only assesses how well it's performing on the given training data. In later worksheets we'll assess the generalization ability of models using held-out evaluation data."
      ]
    },
    {
      "cell_type": "markdown",
      "metadata": {
        "id": "DnL9mzi_cRCa",
        "colab_type": "text"
      },
      "source": [
        "### 5. Solving using scikit-learn"
      ]
    },
    {
      "cell_type": "markdown",
      "metadata": {
        "id": "MYNVV1dHcRCb",
        "colab_type": "text"
      },
      "source": [
        "Now that you have a good understanding of what's going on under the hood, you can use the functionality in `sklearn` to solve linear regression problems you encounter in the future. Using the `LinearRegression` module, fitting a linear regression model becomes a one-liner as shown below."
      ]
    },
    {
      "cell_type": "code",
      "metadata": {
        "id": "culcLnrHcRCb",
        "colab_type": "code",
        "colab": {}
      },
      "source": [
        "from sklearn.linear_model import LinearRegression\n",
        "lr = LinearRegression().fit(x, y)"
      ],
      "execution_count": 0,
      "outputs": []
    },
    {
      "cell_type": "markdown",
      "metadata": {
        "id": "dppstHdocRCc",
        "colab_type": "text"
      },
      "source": [
        "The `LinearRegression` module provides access to the bias weight $w_0$ under the `intercept_` property"
      ]
    },
    {
      "cell_type": "code",
      "metadata": {
        "id": "ra-iT5J5cRCd",
        "colab_type": "code",
        "outputId": "6737e5ee-381a-412c-f8d3-05c12798d339",
        "colab": {
          "base_uri": "https://localhost:8080/",
          "height": 34
        }
      },
      "source": [
        "lr.intercept_"
      ],
      "execution_count": 0,
      "outputs": [
        {
          "output_type": "execute_result",
          "data": {
            "text/plain": [
              "array([28.89524574])"
            ]
          },
          "metadata": {
            "tags": []
          },
          "execution_count": 13
        }
      ]
    },
    {
      "cell_type": "markdown",
      "metadata": {
        "id": "CEQKjsvlcRCe",
        "colab_type": "text"
      },
      "source": [
        "and the non-bias weights under the `coef_` property"
      ]
    },
    {
      "cell_type": "code",
      "metadata": {
        "id": "jTNG_moYcRCf",
        "colab_type": "code",
        "outputId": "e15a14f0-ef55-42bd-f39b-da625c584931",
        "colab": {
          "base_uri": "https://localhost:8080/",
          "height": 34
        }
      },
      "source": [
        "lr.coef_"
      ],
      "execution_count": 0,
      "outputs": [
        {
          "output_type": "execute_result",
          "data": {
            "text/plain": [
              "array([[-0.01298065]])"
            ]
          },
          "metadata": {
            "tags": []
          },
          "execution_count": 15
        }
      ]
    },
    {
      "cell_type": "markdown",
      "metadata": {
        "id": "nPr9iZIpcRCh",
        "colab_type": "text"
      },
      "source": [
        "You should check that these results match the solution you obtained previously. Note that sklearn also uses a numerical linear algebra solver under the hood."
      ]
    }
  ]
}