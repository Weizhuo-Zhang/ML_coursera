{
  "nbformat": 4,
  "nbformat_minor": 0,
  "metadata": {
    "colab": {
      "name": "3_classification.ipynb",
      "version": "0.3.2",
      "provenance": [],
      "collapsed_sections": [],
      "include_colab_link": true
    },
    "kernelspec": {
      "name": "python3",
      "display_name": "Python 3"
    }
  },
  "cells": [
    {
      "cell_type": "markdown",
      "metadata": {
        "id": "view-in-github",
        "colab_type": "text"
      },
      "source": [
        "<a href=\"https://colab.research.google.com/github/Weizhuo-Zhang/ML_coursera/blob/master/hands_on_ML/3_classification.ipynb\" target=\"_parent\"><img src=\"https://colab.research.google.com/assets/colab-badge.svg\" alt=\"Open In Colab\"/></a>"
      ]
    },
    {
      "cell_type": "markdown",
      "metadata": {
        "id": "eI6YFOzfv4lW",
        "colab_type": "text"
      },
      "source": [
        "# 3. 分类\n",
        "\n",
        "## MNIST"
      ]
    },
    {
      "cell_type": "code",
      "metadata": {
        "id": "4ogEwlKbo1kh",
        "colab_type": "code",
        "colab": {}
      },
      "source": [
        "from sklearn.datasets import fetch_openml\n",
        "mnist = fetch_openml('mnist_784', cache=False)"
      ],
      "execution_count": 0,
      "outputs": []
    },
    {
      "cell_type": "markdown",
      "metadata": {
        "id": "wSLAK2bSwLaS",
        "colab_type": "text"
      },
      "source": [
        "一般而言，由 **`sklearn`** 加载的数据集有着相似的字典结构，这包括：\n",
        "\n",
        "- `DESCR` 键描述数据集\n",
        "- `data` 键存放一个数组，数组的一行表示一个样例，一列表示一个特征\n",
        "- `target` 键存放一个标签数组\n",
        "\n",
        "**注意：**fetch_mldata已经失效了。"
      ]
    },
    {
      "cell_type": "code",
      "metadata": {
        "id": "LanOyPJxQ4ac",
        "colab_type": "code",
        "outputId": "8a6e5f5d-2c72-4bcf-951e-d22c75a41538",
        "colab": {
          "base_uri": "https://localhost:8080/",
          "height": 54
        }
      },
      "source": [
        "mnist.DESCR"
      ],
      "execution_count": 2,
      "outputs": [
        {
          "output_type": "execute_result",
          "data": {
            "text/plain": [
              "\"**Author**: Yann LeCun, Corinna Cortes, Christopher J.C. Burges  \\n**Source**: [MNIST Website](http://yann.lecun.com/exdb/mnist/) - Date unknown  \\n**Please cite**:  \\n\\nThe MNIST database of handwritten digits with 784 features, raw data available at: http://yann.lecun.com/exdb/mnist/. It can be split in a training set of the first 60,000 examples, and a test set of 10,000 examples  \\n\\nIt is a subset of a larger set available from NIST. The digits have been size-normalized and centered in a fixed-size image. It is a good database for people who want to try learning techniques and pattern recognition methods on real-world data while spending minimal efforts on preprocessing and formatting. The original black and white (bilevel) images from NIST were size normalized to fit in a 20x20 pixel box while preserving their aspect ratio. The resulting images contain grey levels as a result of the anti-aliasing technique used by the normalization algorithm. the images were centered in a 28x28 image by computing the center of mass of the pixels, and translating the image so as to position this point at the center of the 28x28 field.  \\n\\nWith some classification methods (particularly template-based methods, such as SVM and K-nearest neighbors), the error rate improves when the digits are centered by bounding box rather than center of mass. If you do this kind of pre-processing, you should report it in your publications. The MNIST database was constructed from NIST's NIST originally designated SD-3 as their training set and SD-1 as their test set. However, SD-3 is much cleaner and easier to recognize than SD-1. The reason for this can be found on the fact that SD-3 was collected among Census Bureau employees, while SD-1 was collected among high-school students. Drawing sensible conclusions from learning experiments requires that the result be independent of the choice of training set and test among the complete set of samples. Therefore it was necessary to build a new database by mixing NIST's datasets.  \\n\\nThe MNIST training set is composed of 30,000 patterns from SD-3 and 30,000 patterns from SD-1. Our test set was composed of 5,000 patterns from SD-3 and 5,000 patterns from SD-1. The 60,000 pattern training set contained examples from approximately 250 writers. We made sure that the sets of writers of the training set and test set were disjoint. SD-1 contains 58,527 digit images written by 500 different writers. In contrast to SD-3, where blocks of data from each writer appeared in sequence, the data in SD-1 is scrambled. Writer identities for SD-1 is available and we used this information to unscramble the writers. We then split SD-1 in two: characters written by the first 250 writers went into our new training set. The remaining 250 writers were placed in our test set. Thus we had two sets with nearly 30,000 examples each. The new training set was completed with enough examples from SD-3, starting at pattern # 0, to make a full set of 60,000 training patterns. Similarly, the new test set was completed with SD-3 examples starting at pattern # 35,000 to make a full set with 60,000 test patterns. Only a subset of 10,000 test images (5,000 from SD-1 and 5,000 from SD-3) is available on this site. The full 60,000 sample training set is available.\\n\\nDownloaded from openml.org.\""
            ]
          },
          "metadata": {
            "tags": []
          },
          "execution_count": 2
        }
      ]
    },
    {
      "cell_type": "code",
      "metadata": {
        "id": "KopATIAfRRJB",
        "colab_type": "code",
        "outputId": "998f5e76-e42f-42cc-c4f9-18146dee9f0f",
        "colab": {
          "base_uri": "https://localhost:8080/",
          "height": 136
        }
      },
      "source": [
        "mnist.data"
      ],
      "execution_count": 3,
      "outputs": [
        {
          "output_type": "execute_result",
          "data": {
            "text/plain": [
              "array([[0., 0., 0., ..., 0., 0., 0.],\n",
              "       [0., 0., 0., ..., 0., 0., 0.],\n",
              "       [0., 0., 0., ..., 0., 0., 0.],\n",
              "       ...,\n",
              "       [0., 0., 0., ..., 0., 0., 0.],\n",
              "       [0., 0., 0., ..., 0., 0., 0.],\n",
              "       [0., 0., 0., ..., 0., 0., 0.]])"
            ]
          },
          "metadata": {
            "tags": []
          },
          "execution_count": 3
        }
      ]
    },
    {
      "cell_type": "code",
      "metadata": {
        "id": "PBY-855pRfOA",
        "colab_type": "code",
        "outputId": "45b89ef3-bd47-4be0-da33-2a52afa6e846",
        "colab": {
          "base_uri": "https://localhost:8080/",
          "height": 34
        }
      },
      "source": [
        "mnist.target"
      ],
      "execution_count": 4,
      "outputs": [
        {
          "output_type": "execute_result",
          "data": {
            "text/plain": [
              "array(['5', '0', '4', ..., '4', '5', '6'], dtype=object)"
            ]
          },
          "metadata": {
            "tags": []
          },
          "execution_count": 4
        }
      ]
    },
    {
      "cell_type": "code",
      "metadata": {
        "id": "AG_VCs7JwIzm",
        "colab_type": "code",
        "outputId": "e2e865ee-8df5-407f-9edc-bf4797e60430",
        "colab": {
          "base_uri": "https://localhost:8080/",
          "height": 51
        }
      },
      "source": [
        "import numpy as np\n",
        "\n",
        "X, y = mnist.data, mnist.target\n",
        "y = y.astype(np.int8)\n",
        "print(X.shape)\n",
        "print(y.shape)"
      ],
      "execution_count": 5,
      "outputs": [
        {
          "output_type": "stream",
          "text": [
            "(70000, 784)\n",
            "(70000,)\n"
          ],
          "name": "stdout"
        }
      ]
    },
    {
      "cell_type": "code",
      "metadata": {
        "id": "Qfy3Qq2awdsA",
        "colab_type": "code",
        "outputId": "f27a24bd-f1cc-4c5a-c18e-9e4b38528893",
        "colab": {
          "base_uri": "https://localhost:8080/",
          "height": 265
        }
      },
      "source": [
        "%matplotlib inline\n",
        "import matplotlib\n",
        "import matplotlib.pyplot as plt\n",
        "some_digit = X[36000]\n",
        "some_digit_image = some_digit.reshape(28, 28)\n",
        "plt.imshow(some_digit_image, cmap = matplotlib.cm.binary, interpolation=\"nearest\")\n",
        "plt.axis(\"off\")\n",
        "plt.show()"
      ],
      "execution_count": 6,
      "outputs": [
        {
          "output_type": "display_data",
          "data": {
            "image/png": "[encoded data removed]",
            "text/plain": [
              "<Figure size 432x288 with 1 Axes>"
            ]
          },
          "metadata": {
            "tags": []
          }
        }
      ]
    },
    {
      "cell_type": "code",
      "metadata": {
        "id": "icA-LorgRn-H",
        "colab_type": "code",
        "outputId": "3f451483-60b9-42e4-acee-73016af5bb33",
        "colab": {
          "base_uri": "https://localhost:8080/",
          "height": 34
        }
      },
      "source": [
        "y[36000]"
      ],
      "execution_count": 7,
      "outputs": [
        {
          "output_type": "execute_result",
          "data": {
            "text/plain": [
              "9"
            ]
          },
          "metadata": {
            "tags": []
          },
          "execution_count": 7
        }
      ]
    },
    {
      "cell_type": "code",
      "metadata": {
        "id": "PcpziPTYSRJp",
        "colab_type": "code",
        "colab": {}
      },
      "source": [
        "X_train, X_test, y_train, y_test = X[:60000], X[60000:], y[:60000], y[60000:]"
      ],
      "execution_count": 0,
      "outputs": []
    },
    {
      "cell_type": "code",
      "metadata": {
        "id": "XyBfv1qISd_c",
        "colab_type": "code",
        "colab": {}
      },
      "source": [
        "#打乱训练集\n",
        "shuffle_index = np.random.permutation(60000)\n",
        "X_train, y_train = X_train[shuffle_index], y_train[shuffle_index]"
      ],
      "execution_count": 0,
      "outputs": []
    },
    {
      "cell_type": "markdown",
      "metadata": {
        "id": "ebGceRZxS_wk",
        "colab_type": "text"
      },
      "source": [
        "## 训练一个二分类器"
      ]
    },
    {
      "cell_type": "code",
      "metadata": {
        "id": "Ee_2LsX7SyPg",
        "colab_type": "code",
        "colab": {}
      },
      "source": [
        "y_train_5 = (y_train == 5)\n",
        "y_test_5 = (y_test == 5)"
      ],
      "execution_count": 0,
      "outputs": []
    },
    {
      "cell_type": "markdown",
      "metadata": {
        "id": "JHcan0OMTQ-m",
        "colab_type": "text"
      },
      "source": [
        " 用随机梯度下降分类器`SGD`，使用 **`Scikit-Learn`** 的\n",
        "`SGDClassifier` 类。这个分类器有一个好处是能够高效地处理非常大的数据集。这部分原因在于`SGD`一次只处理一条数据,这也使得 `SGD` 适合在线学习(online learning)。"
      ]
    },
    {
      "cell_type": "code",
      "metadata": {
        "id": "A6Kb1h3xTK41",
        "colab_type": "code",
        "outputId": "20588906-524a-44e6-a5b7-eff773076236",
        "colab": {
          "base_uri": "https://localhost:8080/",
          "height": 119
        }
      },
      "source": [
        "from sklearn.linear_model  import SGDClassifier\n",
        "sgd_clf = SGDClassifier(random_state=42)\n",
        "sgd_clf.fit(X_train, y_train_5)"
      ],
      "execution_count": 11,
      "outputs": [
        {
          "output_type": "execute_result",
          "data": {
            "text/plain": [
              "SGDClassifier(alpha=0.0001, average=False, class_weight=None,\n",
              "              early_stopping=False, epsilon=0.1, eta0=0.0, fit_intercept=True,\n",
              "              l1_ratio=0.15, learning_rate='optimal', loss='hinge',\n",
              "              max_iter=1000, n_iter_no_change=5, n_jobs=None, penalty='l2',\n",
              "              power_t=0.5, random_state=42, shuffle=True, tol=0.001,\n",
              "              validation_fraction=0.1, verbose=0, warm_start=False)"
            ]
          },
          "metadata": {
            "tags": []
          },
          "execution_count": 11
        }
      ]
    },
    {
      "cell_type": "markdown",
      "metadata": {
        "id": "3MsOoFtdW8aN",
        "colab_type": "text"
      },
      "source": [
        "## 对性能的评估\n",
        "### 使用交叉验证测量准确性"
      ]
    },
    {
      "cell_type": "code",
      "metadata": {
        "id": "7LZr3TUNT9Id",
        "colab_type": "code",
        "outputId": "e52ee75e-351e-4a99-9cfb-190232074d17",
        "colab": {
          "base_uri": "https://localhost:8080/",
          "height": 68
        }
      },
      "source": [
        "# cross_val_score()\n",
        "from sklearn.model_selection import StratifiedKFold\n",
        "from sklearn.base import clone\n",
        "skfolds = StratifiedKFold(n_splits=3, random_state=42)\n",
        "for train_index, test_index in skfolds.split(X_train, y_train_5):\n",
        "  clone_clf = clone(sgd_clf)\n",
        "  X_train_folds = X_train[train_index]\n",
        "  y_train_folds = (y_train_5[train_index])\n",
        "  X_test_fold = X_train[test_index]\n",
        "  y_test_fold = (y_train_5[test_index])\n",
        "  clone_clf.fit(X_train_folds, y_train_folds)\n",
        "  y_pred = clone_clf.predict(X_test_fold)\n",
        "  n_correct = sum(y_pred == y_test_fold)\n",
        "  print(n_correct / len(y_pred))"
      ],
      "execution_count": 12,
      "outputs": [
        {
          "output_type": "stream",
          "text": [
            "0.966\n",
            "0.95445\n",
            "0.8827\n"
          ],
          "name": "stdout"
        }
      ]
    },
    {
      "cell_type": "code",
      "metadata": {
        "id": "C9pqtulhTr7x",
        "colab_type": "code",
        "colab": {}
      },
      "source": [
        "# 使用cross_val_score()来评估SGDClassifier"
      ],
      "execution_count": 0,
      "outputs": []
    },
    {
      "cell_type": "code",
      "metadata": {
        "id": "qJVaDNlfY1PI",
        "colab_type": "code",
        "outputId": "2c147230-0e5e-4878-9ec9-706a6917d52d",
        "colab": {
          "base_uri": "https://localhost:8080/",
          "height": 34
        }
      },
      "source": [
        "from sklearn.model_selection import cross_val_score\n",
        "cross_val_score(sgd_clf, X_train, y_train_5, cv=3, scoring=\"accuracy\")"
      ],
      "execution_count": 14,
      "outputs": [
        {
          "output_type": "execute_result",
          "data": {
            "text/plain": [
              "array([0.966  , 0.95445, 0.8827 ])"
            ]
          },
          "metadata": {
            "tags": []
          },
          "execution_count": 14
        }
      ]
    },
    {
      "cell_type": "code",
      "metadata": {
        "id": "XLIiPzWXZA3_",
        "colab_type": "code",
        "colab": {}
      },
      "source": [
        "from sklearn.base import BaseEstimator\n",
        "class Never5Classifier(BaseEstimator):\n",
        "  def fit(self, X, y=None):\n",
        "    pass\n",
        "  def predict(self, X):\n",
        "    return np.zeros((len(X), 1), dtype=bool)"
      ],
      "execution_count": 0,
      "outputs": []
    },
    {
      "cell_type": "code",
      "metadata": {
        "id": "JZ18idIcZVIt",
        "colab_type": "code",
        "outputId": "f8e2316b-1c6b-4565-d7c5-ff9c6f8e79c5",
        "colab": {
          "base_uri": "https://localhost:8080/",
          "height": 34
        }
      },
      "source": [
        "never_5_clf = Never5Classifier()\n",
        "cross_val_score(never_5_clf, X_train, y_train_5, cv=3, scoring=\"accuracy\")"
      ],
      "execution_count": 16,
      "outputs": [
        {
          "output_type": "execute_result",
          "data": {
            "text/plain": [
              "array([0.9089 , 0.9111 , 0.90895])"
            ]
          },
          "metadata": {
            "tags": []
          },
          "execution_count": 16
        }
      ]
    },
    {
      "cell_type": "markdown",
      "metadata": {
        "id": "GBsqCFekZuiP",
        "colab_type": "text"
      },
      "source": [
        "## 混淆矩阵\n",
        "\n",
        "大体思路是:输出类别A被分类成类别 B 的次数。举个例子,为了知道分类器将 5 误分为 3 的次数,你需要查看混淆矩阵的第五行第三列。"
      ]
    },
    {
      "cell_type": "code",
      "metadata": {
        "id": "yJHkV9h2ZgFE",
        "colab_type": "code",
        "colab": {}
      },
      "source": [
        "from sklearn.model_selection import cross_val_predict\n",
        "y_train_pred = cross_val_predict(sgd_clf, X_train, y_train_5, cv=3)"
      ],
      "execution_count": 0,
      "outputs": []
    },
    {
      "cell_type": "markdown",
      "metadata": {
        "id": "4WJsEHQ3aPHh",
        "colab_type": "text"
      },
      "source": [
        "就像 `cross_val_score()` , `cross_val_predict()` 也使用 K 折交叉验证。它不是返回一个评估分数,而是返回基于每一个测试折做出的一个预测值。这意味着,对于每一个训练集的样例,你得到一个干净的预测(“干净”是说一个模型在训练过程当中没有用到测试集的数据)。\n",
        "\n",
        "现在使用测类( `confusion_matrix()` 函数,你将会得到一个混淆矩阵。传递目标类( `y_train_5` )和预测类( `y_train_pred` )给它。"
      ]
    },
    {
      "cell_type": "code",
      "metadata": {
        "id": "HWRXj1xNaGV0",
        "colab_type": "code",
        "outputId": "a6bb7ea2-803b-4cb8-9b17-2da22afd6a5d",
        "colab": {
          "base_uri": "https://localhost:8080/",
          "height": 51
        }
      },
      "source": [
        "from sklearn.metrics import confusion_matrix\n",
        "confusion_matrix(y_train_5, y_train_pred)"
      ],
      "execution_count": 18,
      "outputs": [
        {
          "output_type": "execute_result",
          "data": {
            "text/plain": [
              "array([[51388,  3191],\n",
              "       [  746,  4675]])"
            ]
          },
          "metadata": {
            "tags": []
          },
          "execution_count": 18
        }
      ]
    },
    {
      "cell_type": "markdown",
      "metadata": {
        "id": "OAICo8FQbKpX",
        "colab_type": "text"
      },
      "source": [
        "$$precision = \\frac {TP} {TP + FP}$$\n",
        "\n",
        "$$recall(TPR) = \\frac {TP} {TP + FN}$$"
      ]
    },
    {
      "cell_type": "markdown",
      "metadata": {
        "id": "QnL7Twl7cNU-",
        "colab_type": "text"
      },
      "source": [
        "### Precision and Recall"
      ]
    },
    {
      "cell_type": "code",
      "metadata": {
        "id": "kCqvHSaaaxXo",
        "colab_type": "code",
        "outputId": "1ca09c92-c9fd-443b-951f-53ea008c1ca6",
        "colab": {
          "base_uri": "https://localhost:8080/",
          "height": 51
        }
      },
      "source": [
        "from sklearn.metrics import precision_score, recall_score\n",
        "print(precision_score(y_train_5, y_train_pred))\n",
        "print(recall_score(y_train_5, y_train_pred))"
      ],
      "execution_count": 19,
      "outputs": [
        {
          "output_type": "stream",
          "text": [
            "0.5943300279684719\n",
            "0.8623870134661502\n"
          ],
          "name": "stdout"
        }
      ]
    },
    {
      "cell_type": "markdown",
      "metadata": {
        "id": "YbkdQ5U5dcY7",
        "colab_type": "text"
      },
      "source": [
        "通常结合准确率和召回率会更加方便,这个指标叫做“F1 值”,特别是当你需要一个简单的方法去比较两个分类器的优劣的时候。F1 值是准确率和召回率的调和平均。普通的平均值平等地看待所有的值,而调和平均会给小的值更大的权重。所以,要想分类器得到一个高的 F1值,需要召回率和准确率同时高。\n",
        "\n",
        "$$F1 = \\frac {2} {\\frac {1} {precision} + \\frac {1} {recall}} = 2 * \\frac {precision * recall} {precision + recall} = \\frac {TP} {TP + \\frac {FN + FP} {2}}$$"
      ]
    },
    {
      "cell_type": "code",
      "metadata": {
        "id": "F7VdHUvbce4h",
        "colab_type": "code",
        "outputId": "547e1967-38c4-47a2-9c60-d4c9d66d3c5c",
        "colab": {
          "base_uri": "https://localhost:8080/",
          "height": 34
        }
      },
      "source": [
        "from sklearn.metrics import f1_score\n",
        "f1_score(y_train_5, y_train_pred)"
      ],
      "execution_count": 20,
      "outputs": [
        {
          "output_type": "execute_result",
          "data": {
            "text/plain": [
              "0.7036953413110558"
            ]
          },
          "metadata": {
            "tags": []
          },
          "execution_count": 20
        }
      ]
    },
    {
      "cell_type": "markdown",
      "metadata": {
        "id": "MSMFEpC7htpH",
        "colab_type": "text"
      },
      "source": [
        "### Precision/Recall之间的折中\n",
        "\n",
        "**`Scikit-Learn`** 不让你直接设置阈值,但是它给你提供了设置决策分数的方法,这个决策分数可以用来产生预测。它不是调用分类器的 `predict()` 方法,而是调用 `decision_function()` 方法。这个方法返回每一个样例的分数值,然后基于这个分数值,使用你想要的任何阈值做出预测。"
      ]
    },
    {
      "cell_type": "code",
      "metadata": {
        "id": "XRV0cjOLcm34",
        "colab_type": "code",
        "outputId": "82954c5a-12b0-4845-e081-b78d9848d611",
        "colab": {
          "base_uri": "https://localhost:8080/",
          "height": 51
        }
      },
      "source": [
        "y_scores = sgd_clf.decision_function([some_digit])\n",
        "print(y_scores)\n",
        "threshold = 0\n",
        "y_some_digit_pred = (y_scores > threshold)\n",
        "print(y_some_digit_pred)"
      ],
      "execution_count": 21,
      "outputs": [
        {
          "output_type": "stream",
          "text": [
            "[-14014.78676649]\n",
            "[False]\n"
          ],
          "name": "stdout"
        }
      ]
    },
    {
      "cell_type": "code",
      "metadata": {
        "id": "iBO3SaPMigQ8",
        "colab_type": "code",
        "outputId": "7d7303fe-eaba-4709-9576-1800632f70e0",
        "colab": {
          "base_uri": "https://localhost:8080/",
          "height": 34
        }
      },
      "source": [
        "threshold = -20000\n",
        "y_some_digit_pred = (y_scores > threshold)\n",
        "y_some_digit_pred"
      ],
      "execution_count": 22,
      "outputs": [
        {
          "output_type": "execute_result",
          "data": {
            "text/plain": [
              "array([ True])"
            ]
          },
          "metadata": {
            "tags": []
          },
          "execution_count": 22
        }
      ]
    },
    {
      "cell_type": "markdown",
      "metadata": {
        "id": "aaUbf8lpjCSQ",
        "colab_type": "text"
      },
      "source": [
        "你需要再次使用 `cross_val_predict()` 得到每一个样例的分数值,但是这一次指定返回一个决策分数,而不是预测值。"
      ]
    },
    {
      "cell_type": "code",
      "metadata": {
        "id": "cGB-q0NCivW7",
        "colab_type": "code",
        "colab": {}
      },
      "source": [
        "y_scores = cross_val_predict(sgd_clf, X_train, y_train_5, cv=3,\n",
        "                             method=\"decision_function\")"
      ],
      "execution_count": 0,
      "outputs": []
    },
    {
      "cell_type": "markdown",
      "metadata": {
        "id": "KBhXEaGKjHaE",
        "colab_type": "text"
      },
      "source": [
        "现在有了这些分数值。对于任何可能的阈值,使用\n",
        " `precision_recall_curve()`,你都可以计算准确率和召回率:"
      ]
    },
    {
      "cell_type": "code",
      "metadata": {
        "id": "nZQOEGvoi_vx",
        "colab_type": "code",
        "colab": {}
      },
      "source": [
        "from sklearn.metrics import precision_recall_curve\n",
        "precisions, recalls, thresholds = precision_recall_curve(y_train_5, y_scores)"
      ],
      "execution_count": 0,
      "outputs": []
    },
    {
      "cell_type": "code",
      "metadata": {
        "id": "ARn5EqTXjpKP",
        "colab_type": "code",
        "outputId": "025944f6-8653-48b8-8739-802629e87015",
        "colab": {
          "base_uri": "https://localhost:8080/",
          "height": 283
        }
      },
      "source": [
        "def plot_precision_recall_vs_threshold(precisions, recalls, thresholds):\n",
        "  plt.plot(thresholds, precisions[:-1], \"b--\", label=\"Precision\")\n",
        "  plt.plot(thresholds, recalls[:-1],\"g-\", label=\"Recall\")\n",
        "  plt.xlabel(\"Threshold\")\n",
        "  plt.legend(loc=\"upper left\")\n",
        "  plt.ylim([0, 1])\n",
        "  \n",
        "plot_precision_recall_vs_threshold(precisions, recalls, thresholds)\n",
        "plt.show()"
      ],
      "execution_count": 25,
      "outputs": [
        {
          "output_type": "display_data",
          "data": {
            "image/png": "[encoded data removed]",
            "text/plain": [
              "<Figure size 432x288 with 1 Axes>"
            ]
          },
          "metadata": {
            "tags": []
          }
        }
      ]
    },
    {
      "cell_type": "code",
      "metadata": {
        "id": "iov2fAa8kNls",
        "colab_type": "code",
        "outputId": "a9a78ea7-9f90-4648-bc9d-8ee1079aad47",
        "colab": {
          "base_uri": "https://localhost:8080/",
          "height": 283
        }
      },
      "source": [
        "plt.plot(recalls[:-1], precisions[:-1])\n",
        "plt.xlabel(\"Recall\")\n",
        "plt.ylabel(\"Precision\")\n",
        "plt.show()"
      ],
      "execution_count": 26,
      "outputs": [
        {
          "output_type": "display_data",
          "data": {
            "image/png": "[encoded data removed]",
            "text/plain": [
              "<Figure size 432x288 with 1 Axes>"
            ]
          },
          "metadata": {
            "tags": []
          }
        }
      ]
    },
    {
      "cell_type": "code",
      "metadata": {
        "id": "DqAkqZ_9kof7",
        "colab_type": "code",
        "outputId": "66674691-3b5f-40e9-fb83-aff4dd451697",
        "colab": {
          "base_uri": "https://localhost:8080/",
          "height": 51
        }
      },
      "source": [
        "y_train_pred_90 = (y_scores > 7000)\n",
        "print(precision_score(y_train_5, y_train_pred_90))\n",
        "print(recall_score(y_train_5, y_train_pred_90))"
      ],
      "execution_count": 27,
      "outputs": [
        {
          "output_type": "stream",
          "text": [
            "0.903525765207284\n",
            "0.4301789337760561\n"
          ],
          "name": "stdout"
        }
      ]
    },
    {
      "cell_type": "markdown",
      "metadata": {
        "id": "IT8pV1I1lT1a",
        "colab_type": "text"
      },
      "source": [
        "### ROC 曲线\n",
        "\n",
        "ROC曲线是TPR和FPR的曲线。$FPR = 1 - TNR$"
      ]
    },
    {
      "cell_type": "code",
      "metadata": {
        "id": "psh95o4QlM2X",
        "colab_type": "code",
        "outputId": "fce49767-c507-4777-efb8-6a948c8e432b",
        "colab": {
          "base_uri": "https://localhost:8080/",
          "height": 283
        }
      },
      "source": [
        "from sklearn.metrics import roc_curve\n",
        "fpr, tpr, thresholds = roc_curve(y_train_5, y_scores)\n",
        "\n",
        "def plot_roc_curve(fpr, tpr, label=None):\n",
        "  plt.plot(fpr, tpr, linewidth=2, label=label)\n",
        "  plt.plot([0,1], [0,1], 'k--')\n",
        "  plt.axis([0, 1, 0, 1])\n",
        "  plt.xlabel('False Positive Rate')\n",
        "  plt.ylabel('True Positive Rate')\n",
        "\n",
        "plot_roc_curve(fpr, tpr)\n",
        "plt.show()"
      ],
      "execution_count": 28,
      "outputs": [
        {
          "output_type": "display_data",
          "data": {
            "image/png": "[encoded data removed]",
            "text/plain": [
              "<Figure size 432x288 with 1 Axes>"
            ]
          },
          "metadata": {
            "tags": []
          }
        }
      ]
    },
    {
      "cell_type": "markdown",
      "metadata": {
        "id": "7hne85OMmPJt",
        "colab_type": "text"
      },
      "source": [
        "一个好的分类器的 ROC 曲线应该尽可能远离这条线(即向左上角方向靠拢)。\n",
        "\n",
        "一个比较分类器之间优劣的方法是:测量ROC曲线下的面积(AUC)。一个完美的分类器的 ROC AUC 等于 1,而一个纯随机分类器的 ROC AUC 等于 0.5。Scikit-Learn 提供了一个函数来计算 ROC AUC:"
      ]
    },
    {
      "cell_type": "code",
      "metadata": {
        "id": "hKQ1mb71lqqx",
        "colab_type": "code",
        "outputId": "f74a705e-1f6f-4b4d-f624-37578962a861",
        "colab": {
          "base_uri": "https://localhost:8080/",
          "height": 34
        }
      },
      "source": [
        "from sklearn.metrics import roc_auc_score\n",
        "roc_auc_score(y_train_5, y_scores)"
      ],
      "execution_count": 29,
      "outputs": [
        {
          "output_type": "execute_result",
          "data": {
            "text/plain": [
              "0.9601362962921504"
            ]
          },
          "metadata": {
            "tags": []
          },
          "execution_count": 29
        }
      ]
    },
    {
      "cell_type": "markdown",
      "metadata": {
        "id": "fDCZHTuSmo-n",
        "colab_type": "text"
      },
      "source": [
        "优先使用 PR 曲线当正例很少,或者当你关注假正例多于假反例的时候。其他情况使用 ROC 曲线。举例子,回顾前面的 ROC 曲线和 ROC AUC 数值, 你或许认为这个分类器很棒。但是这几乎全是因为只有少数正例(“是 5”),而大部分是反例(“非 5”)。相反,PR 曲线清楚显示出这个分类器还有很大的改善空间(PR 曲线应该尽可能地靠近右上角)。"
      ]
    },
    {
      "cell_type": "markdown",
      "metadata": {
        "id": "_TO5Lr9bnewS",
        "colab_type": "text"
      },
      "source": [
        "让我们训练一个 `RandomForestClassifier` ,然后拿它的的ROC曲线和ROC AUC数值去跟 `SGDClassifier`的比较。首先你需要得到训练集每个样例的数值。但是由于随机森林分类器  `RandomForestClassifier`  不提供 `decision_function()` 方法。相反，它提供了`predict_proba()` 方法。**`Scikit-Learn`** 分类器通常二者中的一个。 `predict_proba()` 方法返回一个数组，数组的每一行代表一个样例，每一列代表一个类。数组当中的值的意思是:给定一个样例属于给定类的概率。比如,70%的概率这幅图是数字 5。"
      ]
    },
    {
      "cell_type": "code",
      "metadata": {
        "id": "HUTSO-WFmkPp",
        "colab_type": "code",
        "colab": {
          "base_uri": "https://localhost:8080/",
          "height": 139
        },
        "outputId": "9fd12c71-c2a2-45e9-8734-aabb1137e7e2"
      },
      "source": [
        "from sklearn.ensemble import RandomForestClassifier\n",
        "forest_clf = RandomForestClassifier(random_state=42)\n",
        "y_probas_forest = cross_val_predict(forest_clf, X_train, y_train_5, cv=3,\n",
        "                                    method=\"predict_proba\")"
      ],
      "execution_count": 30,
      "outputs": [
        {
          "output_type": "stream",
          "text": [
            "/usr/local/lib/python3.6/dist-packages/sklearn/ensemble/forest.py:245: FutureWarning: The default value of n_estimators will change from 10 in version 0.20 to 100 in 0.22.\n",
            "  \"10 in version 0.20 to 100 in 0.22.\", FutureWarning)\n",
            "/usr/local/lib/python3.6/dist-packages/sklearn/ensemble/forest.py:245: FutureWarning: The default value of n_estimators will change from 10 in version 0.20 to 100 in 0.22.\n",
            "  \"10 in version 0.20 to 100 in 0.22.\", FutureWarning)\n",
            "/usr/local/lib/python3.6/dist-packages/sklearn/ensemble/forest.py:245: FutureWarning: The default value of n_estimators will change from 10 in version 0.20 to 100 in 0.22.\n",
            "  \"10 in version 0.20 to 100 in 0.22.\", FutureWarning)\n"
          ],
          "name": "stderr"
        }
      ]
    },
    {
      "cell_type": "code",
      "metadata": {
        "id": "0fPLEJQOYncB",
        "colab_type": "code",
        "colab": {}
      },
      "source": [
        "y_scores_forest = y_probas_forest[:, 1]\n",
        "fpr_forest, tpr_forest, thresholds_forest = roc_curve(y_train_5, y_scores_forest)"
      ],
      "execution_count": 0,
      "outputs": []
    },
    {
      "cell_type": "markdown",
      "metadata": {
        "id": "KU_KmQ3taAPx",
        "colab_type": "text"
      },
      "source": [
        "Label只分了两类，5 和 非5，因此只有两列。"
      ]
    },
    {
      "cell_type": "code",
      "metadata": {
        "id": "nxlt_7i2Z7fa",
        "colab_type": "code",
        "colab": {
          "base_uri": "https://localhost:8080/",
          "height": 0
        },
        "outputId": "405f6771-99e3-4cb5-df66-9e342ca0cc08"
      },
      "source": [
        "print(y_probas_forest.shape)\n",
        "print(y_probas_forest)"
      ],
      "execution_count": 32,
      "outputs": [
        {
          "output_type": "stream",
          "text": [
            "(60000, 2)\n",
            "[[1.  0. ]\n",
            " [1.  0. ]\n",
            " [0.3 0.7]\n",
            " ...\n",
            " [1.  0. ]\n",
            " [1.  0. ]\n",
            " [1.  0. ]]\n"
          ],
          "name": "stdout"
        }
      ]
    },
    {
      "cell_type": "code",
      "metadata": {
        "id": "kUiQrgREY3dv",
        "colab_type": "code",
        "colab": {
          "base_uri": "https://localhost:8080/",
          "height": 541
        },
        "outputId": "2531cb2e-d0cf-4a1f-911c-8c465e236bc0"
      },
      "source": [
        "plt.plot(fpr,tpr, \"b:\", label=\"SGD\")\n",
        "plot_roc_curve(fpr_forest, tpr_forest, \"Random Forest\")\n",
        "plt.legend(loc=\"bottom right\")\n",
        "plt.show()"
      ],
      "execution_count": 33,
      "outputs": [
        {
          "output_type": "stream",
          "text": [
            "/usr/local/lib/python3.6/dist-packages/matplotlib/legend.py:497: UserWarning: Unrecognized location \"bottom right\". Falling back on \"best\"; valid locations are\n",
            "\tbest\n",
            "\tupper right\n",
            "\tupper left\n",
            "\tlower left\n",
            "\tlower right\n",
            "\tright\n",
            "\tcenter left\n",
            "\tcenter right\n",
            "\tlower center\n",
            "\tupper center\n",
            "\tcenter\n",
            "\n",
            "  % (loc, '\\n\\t'.join(self.codes)))\n"
          ],
          "name": "stderr"
        },
        {
          "output_type": "display_data",
          "data": {
            "image/png": "[encoded data removed]",
            "text/plain": [
              "<Figure size 432x288 with 1 Axes>"
            ]
          },
          "metadata": {
            "tags": []
          }
        }
      ]
    },
    {
      "cell_type": "markdown",
      "metadata": {
        "id": "B-hF6RJcaSW6",
        "colab_type": "text"
      },
      "source": [
        "如你所见， `RandomForestClassifier` 的 `ROC` 曲线比 `SGDClassifier` 的好得多：它更靠近左上角。所以，它的 `ROC AUC` 也会更大。"
      ]
    },
    {
      "cell_type": "code",
      "metadata": {
        "id": "WpWNQApLZE__",
        "colab_type": "code",
        "colab": {
          "base_uri": "https://localhost:8080/",
          "height": 34
        },
        "outputId": "092a9173-4213-4d54-c0eb-8e224041e191"
      },
      "source": [
        "roc_auc_score(y_train_5, y_scores_forest)"
      ],
      "execution_count": 34,
      "outputs": [
        {
          "output_type": "execute_result",
          "data": {
            "text/plain": [
              "0.9929671626173602"
            ]
          },
          "metadata": {
            "tags": []
          },
          "execution_count": 34
        }
      ]
    },
    {
      "cell_type": "markdown",
      "metadata": {
        "id": "KyQmCZ_pakHc",
        "colab_type": "text"
      },
      "source": [
        "## 多类分类\n",
        "\n",
        "### One vs All (OvA)\n",
        "\n",
        "创建一个可以将图片分成 10 类（从 0 到 9）的系统的一个方法是：训练10个二分类器，每一个对应一个数字（探测器 0，探测器 1，探测器 2，以此类推）。然后当你想对某张图片进行分类的时候，让每一个分类器对这个图片进行分类，选出决策分数最高的那个分类器。这叫做“一对所有”（OvA）策略（也被叫做“一对其他”）。\n",
        "\n",
        "**`Scikit-Learn`** 可以探测出你想使用一个二分类器去完成多分类的任务，它会自动地执行 `OvA`（除了 `SVM` 分类器，它使用 `OvO`）。让我们试一下 `SGDClassifier`"
      ]
    },
    {
      "cell_type": "code",
      "metadata": {
        "id": "-9Cee_wxaggw",
        "colab_type": "code",
        "colab": {
          "base_uri": "https://localhost:8080/",
          "height": 34
        },
        "outputId": "db879e47-8169-4c1d-8463-14a4639d18f8"
      },
      "source": [
        "sgd_clf.fit(X_train, y_train)\n",
        "sgd_clf.predict([some_digit])"
      ],
      "execution_count": 35,
      "outputs": [
        {
          "output_type": "execute_result",
          "data": {
            "text/plain": [
              "array([3], dtype=int8)"
            ]
          },
          "metadata": {
            "tags": []
          },
          "execution_count": 35
        }
      ]
    },
    {
      "cell_type": "markdown",
      "metadata": {
        "id": "m_zKg1nfc6iO",
        "colab_type": "text"
      },
      "source": [
        "很容易。上面的代码在训练集上训练了一个 `SGDClassifier` 。这个分类器处理原始的目标 `class`，从 `0` 到 `9`（ `y_train` ），而不是仅仅探测是否为 `5` （ `y_train_5` ）。然后它做出一个判断（在这个案例下只有一个正确的数字）。在幕后，**`Scikit-Learn`** 实际上训练了 `10` 个二分类器，每个分类器都产到一张图片的决策数值，选择数值最高的那个类。\n",
        "\n",
        "为了证明这是真实的，你可以调用 `decision_function() 方法。不是返回每个样例的一个数值，而是返回 `10` 个数值，一个数值对应于一个类。"
      ]
    },
    {
      "cell_type": "code",
      "metadata": {
        "id": "p3lldKudbck4",
        "colab_type": "code",
        "colab": {
          "base_uri": "https://localhost:8080/",
          "height": 85
        },
        "outputId": "f17c4f8a-eb68-4dea-d1fd-07a1b791841e"
      },
      "source": [
        "some_digit_scores = sgd_clf.decision_function([some_digit])\n",
        "some_digit_scores"
      ],
      "execution_count": 36,
      "outputs": [
        {
          "output_type": "execute_result",
          "data": {
            "text/plain": [
              "array([[-39773.8431755 , -18260.9720118 , -20050.89786047,\n",
              "         -1446.1656152 ,  -2089.79668138,  -5052.69255581,\n",
              "        -29983.45135975,  -9040.3220321 ,  -5557.85778773,\n",
              "         -2694.88111697]])"
            ]
          },
          "metadata": {
            "tags": []
          },
          "execution_count": 36
        }
      ]
    },
    {
      "cell_type": "code",
      "metadata": {
        "id": "ybfbzkaadnzI",
        "colab_type": "code",
        "colab": {
          "base_uri": "https://localhost:8080/",
          "height": 68
        },
        "outputId": "c76f10bc-1620-4969-b435-ae9d503a00e1"
      },
      "source": [
        "# 最高数值应该对应于类别3\n",
        "print(np.argmax(some_digit_scores))\n",
        "print(sgd_clf.classes_)\n",
        "print(sgd_clf.classes_[3])"
      ],
      "execution_count": 37,
      "outputs": [
        {
          "output_type": "stream",
          "text": [
            "3\n",
            "[0 1 2 3 4 5 6 7 8 9]\n",
            "3\n"
          ],
          "name": "stdout"
        }
      ]
    },
    {
      "cell_type": "markdown",
      "metadata": {
        "id": "zmbST1D5ekuq",
        "colab_type": "text"
      },
      "source": [
        "### One vs One (OvO)\n",
        "\n",
        "一个分类器用来处理数字 0 和数字 1，一个用来处理数字 0 和数字 2，一个用来处理数字 1 和 2，以此类推。这叫做“一对一”（OvO）\n",
        "策略。如果有 N 个类。你需要训练 $N*(N-1)/2$ 个分类器。对于 MNIST 问题，需要训练 45 个二分类器！当你想对一张图片进行分类，你必须将这张图片跑在全部45个二分类器上。然后看哪个类胜出。\n",
        "\n",
        "如果你想强制 **`Scikit-Learn`** 使用 OvO 策略或者 OvA 策略，你可以使用 `OneVsOneClassifier` 类或者 `OneVsRestClassifier` 类。创建一个样例，传递一个二分类器给它的构造函数。举例子，下面的代码会创建一个多类分类器，使用 OvO 策略，基于 `SGDClassifier` 。"
      ]
    },
    {
      "cell_type": "code",
      "metadata": {
        "id": "49ro2i0LeV94",
        "colab_type": "code",
        "colab": {
          "base_uri": "https://localhost:8080/",
          "height": 51
        },
        "outputId": "f9005b39-5990-4583-e884-ee5d7cbd193f"
      },
      "source": [
        "from sklearn.multiclass import OneVsOneClassifier\n",
        "ovo_clf = OneVsOneClassifier(SGDClassifier(random_state=42))\n",
        "ovo_clf.fit(X_train, y_train)\n",
        "print(ovo_clf.predict([some_digit]))\n",
        "print(len(ovo_clf.estimators_))"
      ],
      "execution_count": 38,
      "outputs": [
        {
          "output_type": "stream",
          "text": [
            "[9]\n",
            "45\n"
          ],
          "name": "stdout"
        }
      ]
    },
    {
      "cell_type": "code",
      "metadata": {
        "id": "HawTxvr-fW7A",
        "colab_type": "code",
        "colab": {
          "base_uri": "https://localhost:8080/",
          "height": 88
        },
        "outputId": "e9f43d46-823c-46ed-a8df-41deb632b9dc"
      },
      "source": [
        "# 训练一个 RandomForestClassifier 同样简单\n",
        "forest_clf.fit(X_train, y_train)\n",
        "print(forest_clf.predict([some_digit]))"
      ],
      "execution_count": 39,
      "outputs": [
        {
          "output_type": "stream",
          "text": [
            "/usr/local/lib/python3.6/dist-packages/sklearn/ensemble/forest.py:245: FutureWarning: The default value of n_estimators will change from 10 in version 0.20 to 100 in 0.22.\n",
            "  \"10 in version 0.20 to 100 in 0.22.\", FutureWarning)\n"
          ],
          "name": "stderr"
        },
        {
          "output_type": "stream",
          "text": [
            "[9]\n"
          ],
          "name": "stdout"
        }
      ]
    },
    {
      "cell_type": "markdown",
      "metadata": {
        "id": "_ftImqpZjZrc",
        "colab_type": "text"
      },
      "source": [
        "这次 **`Scikit-Learn`** 没有必要去运行 OvO 或者 OvA，因为随机森林分类器能够直接将一个样例分到多个类别。你可以调用 `predict_proba()` ，得到样例对应的类别的概率值的列表："
      ]
    },
    {
      "cell_type": "code",
      "metadata": {
        "id": "jwkDENrDgBOg",
        "colab_type": "code",
        "colab": {
          "base_uri": "https://localhost:8080/",
          "height": 34
        },
        "outputId": "304e5e7d-8341-46af-ed55-ffcddb4c0239"
      },
      "source": [
        "forest_clf.predict_proba([some_digit])"
      ],
      "execution_count": 40,
      "outputs": [
        {
          "output_type": "execute_result",
          "data": {
            "text/plain": [
              "array([[0., 0., 0., 0., 0., 0., 0., 0., 0., 1.]])"
            ]
          },
          "metadata": {
            "tags": []
          },
          "execution_count": 40
        }
      ]
    },
    {
      "cell_type": "markdown",
      "metadata": {
        "id": "D5_IJa3bjp3h",
        "colab_type": "text"
      },
      "source": [
        "现在当然你想评估这些分类器。像平常一样，你想使用交叉验证。让我们用 `cross_val_score()` 来评估 `SGDClassifier` 的精度。"
      ]
    },
    {
      "cell_type": "code",
      "metadata": {
        "id": "uRvBeu20jk44",
        "colab_type": "code",
        "colab": {
          "base_uri": "https://localhost:8080/",
          "height": 34
        },
        "outputId": "8baf498b-d557-4256-d12d-9411f77f9cac"
      },
      "source": [
        "cross_val_score(sgd_clf, X_train, y_train, cv=3, scoring=\"accuracy\")"
      ],
      "execution_count": 41,
      "outputs": [
        {
          "output_type": "execute_result",
          "data": {
            "text/plain": [
              "array([0.86557688, 0.839992  , 0.87473121])"
            ]
          },
          "metadata": {
            "tags": []
          },
          "execution_count": 41
        }
      ]
    },
    {
      "cell_type": "code",
      "metadata": {
        "id": "rGMgYINDjy7g",
        "colab_type": "code",
        "colab": {}
      },
      "source": [
        "from sklearn.preprocessing import StandardScaler\n",
        "scaler = StandardScaler()\n",
        "X_train_scaled = scaler.fit_transform(X_train.astype(np.float64))\n",
        "print(cross_val_score(sgd_clf, X_train_scaled, y_train, cv=3, scoring=\"accuracy\"))"
      ],
      "execution_count": 0,
      "outputs": []
    },
    {
      "cell_type": "markdown",
      "metadata": {
        "id": "g-e1f6y0lsxx",
        "colab_type": "text"
      },
      "source": [
        "## 误差分析"
      ]
    },
    {
      "cell_type": "code",
      "metadata": {
        "id": "brcWX8mol2uL",
        "colab_type": "code",
        "colab": {}
      },
      "source": [
        "y_train_pred = cross_val_predict(sgd_clf, X_train_scaled, y_train, cv=3)\n",
        "conf_mx = confusion_matrix(y_train, y_train_pred)\n",
        "print(conf_mx)"
      ],
      "execution_count": 0,
      "outputs": []
    },
    {
      "cell_type": "markdown",
      "metadata": {
        "id": "8sbF19dcmYKh",
        "colab_type": "text"
      },
      "source": [
        "使用 Matplotlib 的 matshow() 函数，将混淆矩阵以图像的方式呈现。"
      ]
    },
    {
      "cell_type": "code",
      "metadata": {
        "id": "tmTONTZDmXGB",
        "colab_type": "code",
        "colab": {}
      },
      "source": [
        "plt.matshow(conf_mx, cmap=plt.cm.gray)\n",
        "plt.show()"
      ],
      "execution_count": 0,
      "outputs": []
    },
    {
      "cell_type": "markdown",
      "metadata": {
        "id": "LoGtGPJ-mj6R",
        "colab_type": "text"
      },
      "source": [
        "这个混淆矩阵看起来相当好，因为大多数的图片在主对角线上。在主对角线上意味着被分类正确。\n",
        "\n",
        "让我们关注仅包含误差数据的图像呈现。首先你需要将混淆矩阵的每一个值除以相应类别的图片的总数目。这样子，你可以比较错误率，而不是绝对的错误数（这对大的类别不公平）。"
      ]
    },
    {
      "cell_type": "code",
      "metadata": {
        "id": "t9ko17i3mlv6",
        "colab_type": "code",
        "colab": {}
      },
      "source": [
        "row_sums = conf_mx.sum(axis=1, keepdims=True)\n",
        "norm_conf_mx = conf_mx / row_sums"
      ],
      "execution_count": 0,
      "outputs": []
    },
    {
      "cell_type": "markdown",
      "metadata": {
        "id": "UH-sCob2m4Kx",
        "colab_type": "text"
      },
      "source": [
        "现在让我们用 0 来填充对角线。这样子就只保留了被错误分类的数据。让我们画出这个结果。"
      ]
    },
    {
      "cell_type": "code",
      "metadata": {
        "id": "IBaTnqV0m7rZ",
        "colab_type": "code",
        "colab": {}
      },
      "source": [
        "np.fill_diagonal(norm_conf_mx, 0)\n",
        "plt.matshow(norm_conf_mx, cmap=plt.cm.gray)\n",
        "plt.show()"
      ],
      "execution_count": 0,
      "outputs": []
    },
    {
      "cell_type": "markdown",
      "metadata": {
        "id": "F3mVLKNqnj06",
        "colab_type": "text"
      },
      "source": [
        "分析独特的误差，是获得关于你的分类器是如何工作及其为什么失败的洞见的一个好途径。但是这相对难和耗时。举例子，我们可以画出数字 3 和 5 的例子"
      ]
    },
    {
      "cell_type": "code",
      "metadata": {
        "id": "NIMXk5lonlQ5",
        "colab_type": "code",
        "colab": {}
      },
      "source": [
        "cl_a, cl_b = 3, 5\n",
        "X_aa = X_train[(y_train == cl_a) & (y_train_pred == cl_a)]\n",
        "X_ab = X_train[(y_train == cl_a) & (y_train_pred == cl_b)]\n",
        "X_ba = X_train[(y_train == cl_b) & (y_train_pred == cl_a)]\n",
        "X_bb = X_train[(y_train == cl_b) & (y_train_pred == cl_b)]\n",
        "plt.figure(figsize=(8,8))\n",
        "plt.subplot(221); plot_digits(X_aa[:25], ../images_per_row=5)\n",
        "plt.subplot(222); plot_digits(X_ab[:25], ../images_per_row=5)\n",
        "plt.subplot(223); plot_digits(X_ba[:25], ../images_per_row=5)\n",
        "plt.subplot(224); plot_digits(X_bb[:25], ../images_per_row=5)\n",
        "plt.show()"
      ],
      "execution_count": 0,
      "outputs": []
    },
    {
      "cell_type": "markdown",
      "metadata": {
        "id": "Bkpj0gxKoObC",
        "colab_type": "text"
      },
      "source": [
        "## 多标签分类\n",
        "\n",
        "比方说，这个分类器被训练成识别三个人脸，Alice，Bob，Charlie；然后当它被输入一张含有 Alice 和 Bob 的图片，它应该输出 $[1, 0, 1]$ （意思是：Alice 是，Bob 不是，Charlie 是）。这种输出多个二\n",
        "值标签的分类系统被叫做多标签分类系统。"
      ]
    },
    {
      "cell_type": "code",
      "metadata": {
        "id": "jVG3aCuNob3I",
        "colab_type": "code",
        "colab": {}
      },
      "source": [
        "from sklearn.neighbors import KNeighborsClassifier\n",
        "y_train_large = (y_train >= 7)\n",
        "y_train_odd = (y_train % 2 == 1)\n",
        "y_multilabel = np.c_[y_train_large, y_train_odd]\n",
        "knn_clf.KNeighborsClassifier()\n",
        "knn_clf.fit(X_train, y_multilabel)"
      ],
      "execution_count": 0,
      "outputs": []
    },
    {
      "cell_type": "markdown",
      "metadata": {
        "id": "e7fSWHVyo025",
        "colab_type": "text"
      },
      "source": [
        "这段代码创造了一个 `y_multilabel` 数组，里面包含两个目标标签。第一个标签指出这个数字是否为大数字（7，8 或者 9），第二个标签指出这个数字是否是奇数。接下来几行代码会创建一个 `KNeighborsClassifier` 样例（它支持多标签分类，但不是所有分类器都可以），然后我们使用多目标数组来训练它。现在你可以生成一个预测，然后它输出两个标签："
      ]
    },
    {
      "cell_type": "code",
      "metadata": {
        "id": "4tLHuZy3pGKQ",
        "colab_type": "code",
        "colab": {}
      },
      "source": [
        "print(knn_clf.predict([some_digit]))"
      ],
      "execution_count": 0,
      "outputs": []
    },
    {
      "cell_type": "markdown",
      "metadata": {
        "id": "t4uoeN-rpjby",
        "colab_type": "text"
      },
      "source": [
        "下面的代码计算全部标签的平均 F1 值："
      ]
    },
    {
      "cell_type": "code",
      "metadata": {
        "id": "ZqZxndiCpkEx",
        "colab_type": "code",
        "colab": {}
      },
      "source": [
        "y_train_knn_pred = cross_val_predict(knn_clf, X_train, y_train, cv=3)\n",
        "print(f1_score(y_train, y_train_knn_pred, average=\"macro\"))"
      ],
      "execution_count": 0,
      "outputs": []
    },
    {
      "cell_type": "markdown",
      "metadata": {
        "id": "3Sk-pgEwp3jb",
        "colab_type": "text"
      },
      "source": [
        "这里假设所有标签有着同等的重要性，但可能不是这样。特别是，如果你的 Alice 的照片比Bob 或者 Charlie 更多的时候，也许你想让分类器在 Alice 的照片上具有更大的权重。一个简单的选项是：给每一个标签的权重等于它的支持度（比如，那个标签的样例的数目）。为了\n",
        "做到这点，简单地在上面代码中设置 average=\"weighted\" 。"
      ]
    },
    {
      "cell_type": "markdown",
      "metadata": {
        "id": "TBpCGS8op6XK",
        "colab_type": "text"
      },
      "source": [
        "## 多输出分类\n",
        "\n",
        "“多输出-多类分类”（或者简称为多输出分类）。\n",
        "\n",
        "让我们从 **`MNIST`** 的图片创建训练集和测试集开始，然后给图片的像素强度添加噪声，这里是用 **`NumPy`** 的 `randint()`` 函数。目标图像是原始图像。"
      ]
    },
    {
      "cell_type": "code",
      "metadata": {
        "id": "VzUpvrEuqmK4",
        "colab_type": "code",
        "colab": {}
      },
      "source": [
        "noise = rnd.randint(0, 100, (len(X_train), 784))\n",
        "noise = rnd.randint(0, 100, (len(X_test), 784))\n",
        "X_train_mod = X_train + noise\n",
        "X_test_mod = X_test + noise\n",
        "y_train_mod = X_train\n",
        "y_test_mod = X_test"
      ],
      "execution_count": 0,
      "outputs": []
    },
    {
      "cell_type": "code",
      "metadata": {
        "id": "5y-iwGtWqqDh",
        "colab_type": "code",
        "colab": {}
      },
      "source": [
        "# 清洁图片\n",
        "knn_clf.fit(X_train_mod, y_train_mod)\n",
        "clean_digit = knn_clf.predict([X_test_mod[some_digit]])\n",
        "plot_digit(clean_digit)"
      ],
      "execution_count": 0,
      "outputs": []
    }
  ]
}