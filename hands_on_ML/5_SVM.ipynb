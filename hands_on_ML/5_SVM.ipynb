{
  "nbformat": 4,
  "nbformat_minor": 0,
  "metadata": {
    "colab": {
      "name": "Untitled2.ipynb",
      "version": "0.3.2",
      "provenance": [],
      "include_colab_link": true
    },
    "kernelspec": {
      "name": "python3",
      "display_name": "Python 3"
    }
  },
  "cells": [
    {
      "cell_type": "markdown",
      "metadata": {
        "id": "view-in-github",
        "colab_type": "text"
      },
      "source": [
        "<a href=\"https://colab.research.google.com/github/Weizhuo-Zhang/ML_coursera/blob/master/hands_on_ML/5_SVM.ipynb\" target=\"_parent\"><img src=\"https://colab.research.google.com/assets/colab-badge.svg\" alt=\"Open In Colab\"/></a>"
      ]
    },
    {
      "cell_type": "markdown",
      "metadata": {
        "id": "w-RqnlAyykhk",
        "colab_type": "text"
      },
      "source": [
        "# 五、支持向量机(Supported Vector Machine)\n",
        "\n",
        "支持向量机（SVM）是个非常强大并且有多种功能的机器学习模型，能够做线性或者非线性的分类，回归，甚至异常值检测。机器学习领域中最为流行的模型之一，是任何学习机器学习的人必备的工具。SVM 特别适合应用于复杂但中小规模数据集的分类问题。"
      ]
    },
    {
      "cell_type": "markdown",
      "metadata": {
        "id": "sCI05qEKy1KK",
        "colab_type": "text"
      },
      "source": [
        "## 线性支持向量机分类\n",
        "\n",
        "### 软间隔分类"
      ]
    },
    {
      "cell_type": "code",
      "metadata": {
        "id": "5Xmg4UiHyTBB",
        "colab_type": "code",
        "outputId": "460e8819-3a71-405f-8a9a-28f747e77983",
        "colab": {
          "base_uri": "https://localhost:8080/",
          "height": 34
        }
      },
      "source": [
        "import numpy as np\n",
        "from sklearn import datasets\n",
        "from sklearn.pipeline import Pipeline\n",
        "from sklearn.preprocessing import StandardScaler\n",
        "from sklearn.svm import LinearSVC\n",
        "\n",
        "iris = datasets.load_iris()\n",
        "X = iris[\"data\"][:, (2,3)] # petal length, petal width\n",
        "y = (iris[\"target\"] == 2).astype(np.float64) # Iris-Virginica\n",
        "\n",
        "svm_clf = Pipeline((\n",
        "  (\"scaler\", StandardScaler()),\n",
        "  (\"linear_svc\", LinearSVC(C=1, loss=\"hinge\")),\n",
        "))\n",
        "\n",
        "svm_clf.fit(X, y)\n",
        "\n",
        "print(svm_clf.predict([[5.5, 1.7]]))\n"
      ],
      "execution_count": 1,
      "outputs": [
        {
          "output_type": "stream",
          "text": [
            "[1.]\n"
          ],
          "name": "stdout"
        }
      ]
    },
    {
      "cell_type": "markdown",
      "metadata": {
        "id": "T0CWi9Mf0Jxe",
        "colab_type": "text"
      },
      "source": [
        "**注：**\n",
        "\n",
        "不同于 Logistic 回归分类器，SVM 分类器不会输出每个类别的概率。"
      ]
    },
    {
      "cell_type": "markdown",
      "metadata": {
        "id": "d53VwTwS0WXg",
        "colab_type": "text"
      },
      "source": [
        "作为一种选择，你可以在 SVC 类，使用 `SVC(kernel=\"linear\", C=1)` ，但是它比较慢，尤其在较大的训练集上，所以一般不被推荐。另一个选择是使用 `SGDClassifier` 类，即 `SGDClassifier(loss=\"hinge\", alpha=1/(m*C))` 。它应用了随机梯度下降（SGD 见第四章）来训练一个线性 SVM 分类器。尽管它不会和 LinearSVC 一样快速收敛，但是对于处理那些不适合放在内存的大数据集是非常有用的，或者处理在线分类任务同样有用。"
      ]
    },
    {
      "cell_type": "markdown",
      "metadata": {
        "id": "9Jyf3qiq0ou4",
        "colab_type": "text"
      },
      "source": [
        "## 非线性支持向量机分类"
      ]
    },
    {
      "cell_type": "code",
      "metadata": {
        "id": "zbU717CLzzJl",
        "colab_type": "code",
        "outputId": "0740e209-322b-4bf9-8ad2-0ec8d47ed721",
        "colab": {
          "base_uri": "https://localhost:8080/",
          "height": 71
        }
      },
      "source": [
        "from sklearn.datasets import make_moons\n",
        "from sklearn.pipeline import Pipeline\n",
        "from sklearn.preprocessing import PolynomialFeatures\n",
        "\n",
        "X, y = make_moons(noise=0.1)\n",
        "\n",
        "polynomial_svm_clf = Pipeline((\n",
        "  (\"poly_features\", PolynomialFeatures(degree=3)),\n",
        "  (\"scaler\", StandardScaler()),\n",
        "  (\"svm_clf\", LinearSVC(C=10, loss=\"hinge\"))\n",
        "))\n",
        "\n",
        "clf = polynomial_svm_clf.fit(X, y)"
      ],
      "execution_count": 2,
      "outputs": [
        {
          "output_type": "stream",
          "text": [
            "/usr/local/lib/python3.6/dist-packages/sklearn/svm/base.py:929: ConvergenceWarning: Liblinear failed to converge, increase the number of iterations.\n",
            "  \"the number of iterations.\", ConvergenceWarning)\n"
          ],
          "name": "stderr"
        }
      ]
    },
    {
      "cell_type": "code",
      "metadata": {
        "id": "_KVUgdDa03yR",
        "colab_type": "code",
        "outputId": "f032e4c6-ef3d-44c4-ff8b-f5c456d59c08",
        "colab": {
          "base_uri": "https://localhost:8080/",
          "height": 285
        }
      },
      "source": [
        "import matplotlib.pyplot as plt\n",
        "\n",
        "def make_meshgrid(x, y, h=.02):\n",
        "    x_min, x_max = x.min() - 1, x.max() + 1\n",
        "    y_min, y_max = y.min() - 1, y.max() + 1\n",
        "    xx, yy = np.meshgrid(np.arange(x_min, x_max, h), np.arange(y_min, y_max, h))\n",
        "    return xx, yy\n",
        "\n",
        "def plot_contours(ax, clf, xx, yy, **params):\n",
        "    Z = clf.predict(np.c_[xx.ravel(), yy.ravel()])\n",
        "    Z = Z.reshape(xx.shape)\n",
        "    out = ax.contourf(xx, yy, Z, **params)\n",
        "    return out\n",
        "\n",
        "def plot_decision_boundary(X, y, clf, ax):\n",
        "  xx, yy = make_meshgrid(X,y)\n",
        "  plot_contours(ax, clf, xx, yy, cmap=plt.cm.coolwarm, alpha=0.8)\n",
        "\n",
        "def plot_moons_scatter(X, y, label_0, label_1):\n",
        "  plt.scatter(X[label_0], y[label_0], c=\"b\", marker=\"s\")\n",
        "  plt.scatter(X[label_1], y[label_1], c=\"g\", marker=\"v\")\n",
        "  plt.xlim(-1.5, 2.5)\n",
        "  plt.ylim(-1, 1.5)\n",
        "  plt.xlabel(\"$x1$\")\n",
        "  plt.xlabel(\"$x2$\")\n",
        "  \n",
        "label_0 = (y == 0)\n",
        "label_1 = (y == 1)\n",
        "X0, X1 = X[:, 0], X[:, 1]\n",
        "\n",
        "fig, ax = plt.subplots()\n",
        "plot_decision_boundary(X0, X1, polynomial_svm_clf, ax)\n",
        "plot_moons_scatter(X0, X1, label_0, label_1)\n",
        "\n",
        "plt.show()"
      ],
      "execution_count": 3,
      "outputs": [
        {
          "output_type": "display_data",
          "data": {
            "image/png": "[encoded data removed]",
            "text/plain": [
              "<Figure size 432x288 with 1 Axes>"
            ]
          },
          "metadata": {
            "tags": []
          }
        }
      ]
    },
    {
      "cell_type": "markdown",
      "metadata": {
        "id": "bYNtxLRW9I_r",
        "colab_type": "text"
      },
      "source": [
        "### 多项式核\n",
        "\n",
        "添加多项式特征很容易实现，不仅仅在 SVM，在各种机器学习算法都有不错的表现，但是低次数的多项式不能处理非常复杂的数据集，而高次数的多项式却产生了大量的特征，会使模型变得慢。\n",
        "\n",
        "幸运的是，当你使用 SVM 时，你可以运用一个被称为“核巧”（kernel trick）的神奇数学技巧。它可以取得就像你添加了许多多项式，甚至有高次数的多项式，一样好的结果。所以不会大量特征导致的组合爆炸，因为你并没有增加任何特征。这个技巧可以用 SVC 类来实现。\n",
        "让我们在卫星数据集测试一下效果。"
      ]
    },
    {
      "cell_type": "code",
      "metadata": {
        "id": "hxp2JyKG9Ifz",
        "colab_type": "code",
        "colab": {}
      },
      "source": [
        "def kernel_trick(X, y, degree, coef0, C):\n",
        "  from sklearn.svm import SVC\n",
        "  poly_kernel_svm_clf = Pipeline((\n",
        "    (\"scaler\", StandardScaler()),\n",
        "    (\"svm_clf\", SVC(kernel=\"poly\", degree=degree, coef0=coef0, C=C))\n",
        "  ))\n",
        "  return poly_kernel_svm_clf.fit(X, y)"
      ],
      "execution_count": 0,
      "outputs": []
    },
    {
      "cell_type": "code",
      "metadata": {
        "id": "y48yLQHy9dSs",
        "colab_type": "code",
        "outputId": "a0374eb6-2c65-4751-90bc-4da114d19cdf",
        "colab": {
          "base_uri": "https://localhost:8080/",
          "height": 299
        }
      },
      "source": [
        "from sklearn.datasets import make_moons\n",
        "X, y = make_moons(noise=0.1)\n",
        "\n",
        "f, axs = plt.subplots(1,2,figsize=(12,4))\n",
        "axs[0].axis('off')\n",
        "ax = f.add_subplot(121)\n",
        "degree, coef0, C = 3, 1, 5\n",
        "plot_decision_boundary(X0, X1, kernel_trick(X, y, degree, coef0, C), ax)\n",
        "plot_moons_scatter(X0, X1, label_0, label_1)\n",
        "plt.title(\"$d={0}, r={1}, C={2}$\".format(degree, coef0, C))\n",
        "\n",
        "axs[1].axis('off')\n",
        "ax = f.add_subplot(122)\n",
        "degree, coef0, C = 10, 100, 5\n",
        "plot_decision_boundary(X0, X1, kernel_trick(X, y, degree, coef0, C), ax)\n",
        "plot_moons_scatter(X0, X1, label_0, label_1)\n",
        "plt.title(\"$d={0}, r={1}, C={2}$\".format(degree, coef0, C))\n",
        "\n",
        "plt.show()"
      ],
      "execution_count": 5,
      "outputs": [
        {
          "output_type": "display_data",
          "data": {
            "image/png": "[encoded data removed]",
            "text/plain": [
              "<Figure size 864x288 with 4 Axes>"
            ]
          },
          "metadata": {
            "tags": []
          }
        }
      ]
    },
    {
      "cell_type": "markdown",
      "metadata": {
        "id": "pRD4zA3DEGDn",
        "colab_type": "text"
      },
      "source": [
        "###  增加相似特征\n",
        "\n",
        "### 高斯 RBF (Radial Basis Function) 核"
      ]
    },
    {
      "cell_type": "code",
      "metadata": {
        "id": "2o2pFfe5-12m",
        "colab_type": "code",
        "outputId": "0771a579-ac3f-40cd-f57f-0054f2bfd9dd",
        "colab": {
          "base_uri": "https://localhost:8080/",
          "height": 624
        }
      },
      "source": [
        "def rbf_kernel(X, y, gamma, C):\n",
        "  from sklearn.svm import SVC\n",
        "  rbf_kernel_svm_clf = Pipeline((\n",
        "    (\"scaler\", StandardScaler()),\n",
        "    (\"svm_clf\", SVC(kernel=\"rbf\", gamma=gamma, C=C))\n",
        "  ))\n",
        "  return rbf_kernel_svm_clf.fit(X, y)\n",
        "\n",
        "f, axs = plt.subplots(2,2,figsize=(12,10))\n",
        "axs[0,0].axis('off')\n",
        "ax = f.add_subplot(221)\n",
        "gamma, C = 0.1, 0.001\n",
        "plot_decision_boundary(X0, X1, rbf_kernel(X, y, gamma, C), ax)\n",
        "plot_moons_scatter(X0, X1, label_0, label_1)\n",
        "plt.title(\"$\\gamma={0}, C={1}$\".format(gamma, C))\n",
        "\n",
        "axs[0,1].axis('off')\n",
        "ax = f.add_subplot(222)\n",
        "gamma, C = 0.1, 1000\n",
        "plot_decision_boundary(X0, X1, rbf_kernel(X, y, gamma, C), ax)\n",
        "plot_moons_scatter(X0, X1, label_0, label_1)\n",
        "plt.title(\"$\\gamma={0}, C={1}$\".format(gamma, C))\n",
        "\n",
        "axs[1,0].axis('off')\n",
        "ax = f.add_subplot(223)\n",
        "gamma, C = 5, 0.001\n",
        "plot_decision_boundary(X0, X1, rbf_kernel(X, y, gamma, C), ax)\n",
        "plot_moons_scatter(X0, X1, label_0, label_1)\n",
        "plt.title(\"$\\gamma={0}, C={1}$\".format(gamma, C))\n",
        "\n",
        "axs[1,1].axis('off')\n",
        "ax = f.add_subplot(224)\n",
        "gamma, C = 5, 1000\n",
        "plot_decision_boundary(X0, X1, rbf_kernel(X, y, gamma, C), ax)\n",
        "plot_moons_scatter(X0, X1, label_0, label_1)\n",
        "plt.title(\"$\\gamma={0}, C={1}$\".format(gamma, C))\n",
        "\n",
        "plt.show()"
      ],
      "execution_count": 6,
      "outputs": [
        {
          "output_type": "display_data",
          "data": {
            "image/png": "[encoded data removed]",
            "text/plain": [
              "<Figure size 864x720 with 8 Axes>"
            ]
          },
          "metadata": {
            "tags": []
          }
        }
      ]
    },
    {
      "cell_type": "markdown",
      "metadata": {
        "id": "Gx77OjTLIfNX",
        "colab_type": "text"
      },
      "source": [
        "### 计算复杂性\n",
        "\n",
        "`LinearSVC` 类基于 `liblinear` 库，它实现了线性 SVM 的优化算法。它并不支持核技巧(Kernel Trick)，但是它样本和特征的数量几乎是线性的：训练时间复杂度大约为 $O(m × n)$ 。\n",
        "\n",
        "SVC 类基于 `libsvm` 库，它实现了支持核技巧的算法。训练时间复杂度通常介于$O(m^2 × n)$ 和 $O(m^3 × n)$ 之间。不幸的是，这意味着当训练样本变大时，它将变得极其慢（例如，成千上万个样本）。这个算法对于复杂但小型或中等数量的数据集表现是完美的。然而，它能对特征数量很好的缩放，尤其对稀疏特征来说（sparse features）（即每个样本都有一些非零特征）。"
      ]
    },
    {
      "cell_type": "markdown",
      "metadata": {
        "id": "1NIVAHQ8JMiP",
        "colab_type": "text"
      },
      "source": [
        "### SVM Regression 回归\n",
        "\n"
      ]
    },
    {
      "cell_type": "code",
      "metadata": {
        "id": "9YS4-r92GaLx",
        "colab_type": "code",
        "colab": {
          "base_uri": "https://localhost:8080/",
          "height": 68
        },
        "outputId": "8331da5b-a2d1-4787-d79a-9f476e54df84"
      },
      "source": [
        "from sklearn.svm import LinearSVR\n",
        "svm_reg = LinearSVR(epsilon=1.5)\n",
        "svm_reg.fit(X, y)"
      ],
      "execution_count": 7,
      "outputs": [
        {
          "output_type": "execute_result",
          "data": {
            "text/plain": [
              "LinearSVR(C=1.0, dual=True, epsilon=1.5, fit_intercept=True,\n",
              "          intercept_scaling=1.0, loss='epsilon_insensitive', max_iter=1000,\n",
              "          random_state=None, tol=0.0001, verbose=0)"
            ]
          },
          "metadata": {
            "tags": []
          },
          "execution_count": 7
        }
      ]
    },
    {
      "cell_type": "code",
      "metadata": {
        "id": "_pQgMw_-JoVo",
        "colab_type": "code",
        "colab": {
          "base_uri": "https://localhost:8080/",
          "height": 122
        },
        "outputId": "1244cc20-df3e-4375-afe9-f8896b21bc89"
      },
      "source": [
        "from sklearn.svm import SVR\n",
        "svm_poly_reg = SVR(kernel=\"poly\", degree=2, C=100, epsilon=0.1)\n",
        "svm_poly_reg.fit(X, y)"
      ],
      "execution_count": 8,
      "outputs": [
        {
          "output_type": "stream",
          "text": [
            "/usr/local/lib/python3.6/dist-packages/sklearn/svm/base.py:193: FutureWarning: The default value of gamma will change from 'auto' to 'scale' in version 0.22 to account better for unscaled features. Set gamma explicitly to 'auto' or 'scale' to avoid this warning.\n",
            "  \"avoid this warning.\", FutureWarning)\n"
          ],
          "name": "stderr"
        },
        {
          "output_type": "execute_result",
          "data": {
            "text/plain": [
              "SVR(C=100, cache_size=200, coef0=0.0, degree=2, epsilon=0.1,\n",
              "    gamma='auto_deprecated', kernel='poly', max_iter=-1, shrinking=True,\n",
              "    tol=0.001, verbose=False)"
            ]
          },
          "metadata": {
            "tags": []
          },
          "execution_count": 8
        }
      ]
    },
    {
      "cell_type": "markdown",
      "metadata": {
        "id": "oR1FHKN0J3Ip",
        "colab_type": "text"
      },
      "source": [
        "## 背后机制"
      ]
    }
  ]
}