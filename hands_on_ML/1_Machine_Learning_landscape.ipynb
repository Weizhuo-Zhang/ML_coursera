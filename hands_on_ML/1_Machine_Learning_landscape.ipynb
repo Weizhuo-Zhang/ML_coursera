{
  "nbformat": 4,
  "nbformat_minor": 0,
  "metadata": {
    "colab": {
      "name": "1_Machine_Learning_landscape.ipynb",
      "version": "0.3.2",
      "provenance": [],
      "include_colab_link": true
    },
    "kernelspec": {
      "name": "python3",
      "display_name": "Python 3"
    }
  },
  "cells": [
    {
      "cell_type": "markdown",
      "metadata": {
        "id": "view-in-github",
        "colab_type": "text"
      },
      "source": [
        "<a href=\"https://colab.research.google.com/github/Weizhuo-Zhang/ML_coursera/blob/master/hands_on_ML/1_Machine_Learning_landscape.ipynb\" target=\"_parent\"><img src=\"https://colab.research.google.com/assets/colab-badge.svg\" alt=\"Open In Colab\"/></a>"
      ]
    },
    {
      "cell_type": "code",
      "metadata": {
        "id": "gE4lU6ZteRHD",
        "colab_type": "code",
        "colab": {
          "base_uri": "https://localhost:8080/",
          "height": 411
        },
        "outputId": "4b0e9a85-042e-462d-90ec-1a70f7b1b0f6"
      },
      "source": [
        "!wget https://raw.githubusercontent.com/ageron/handson-ml/master/datasets/lifesat/oecd_bli_2015.csv\n",
        "!wget https://raw.githubusercontent.com/ageron/handson-ml/master/datasets/lifesat/gdp_per_capita.csv "
      ],
      "execution_count": 4,
      "outputs": [
        {
          "output_type": "stream",
          "text": [
            "--2019-08-04 07:19:06--  https://raw.githubusercontent.com/ageron/handson-ml/master/datasets/lifesat/oecd_bli_2015.csv\n",
            "Resolving raw.githubusercontent.com (raw.githubusercontent.com)... 151.101.0.133, 151.101.64.133, 151.101.128.133, ...\n",
            "Connecting to raw.githubusercontent.com (raw.githubusercontent.com)|151.101.0.133|:443... connected.\n",
            "HTTP request sent, awaiting response... 200 OK\n",
            "Length: 405467 (396K) [text/plain]\n",
            "Saving to: ‘oecd_bli_2015.csv.1’\n",
            "\n",
            "\roecd_bli_2015.csv.1   0%[                    ]       0  --.-KB/s               \roecd_bli_2015.csv.1 100%[===================>] 395.96K  --.-KB/s    in 0.03s   \n",
            "\n",
            "2019-08-04 07:19:07 (12.9 MB/s) - ‘oecd_bli_2015.csv.1’ saved [405467/405467]\n",
            "\n",
            "--2019-08-04 07:19:08--  https://raw.githubusercontent.com/ageron/handson-ml/master/datasets/lifesat/gdp_per_capita.csv\n",
            "Resolving raw.githubusercontent.com (raw.githubusercontent.com)... 151.101.0.133, 151.101.64.133, 151.101.128.133, ...\n",
            "Connecting to raw.githubusercontent.com (raw.githubusercontent.com)|151.101.0.133|:443... connected.\n",
            "HTTP request sent, awaiting response... 200 OK\n",
            "Length: 36323 (35K) [text/plain]\n",
            "Saving to: ‘gdp_per_capita.csv’\n",
            "\n",
            "gdp_per_capita.csv  100%[===================>]  35.47K  --.-KB/s    in 0.007s  \n",
            "\n",
            "2019-08-04 07:19:08 (4.72 MB/s) - ‘gdp_per_capita.csv’ saved [36323/36323]\n",
            "\n"
          ],
          "name": "stdout"
        }
      ]
    },
    {
      "cell_type": "code",
      "metadata": {
        "id": "-coY2t6Ggii-",
        "colab_type": "code",
        "colab": {}
      },
      "source": [
        "def prepare_country_stats(oecd_bli, gdp_per_capita):\n",
        "  oecd_bli = oecd_bli[oecd_bli[\"INEQUALITY\"]==\"TOT\"]\n",
        "  oecd_bli = oecd_bli.pivot(index=\"Country\", columns=\"Indicator\", values=\"Value\")\n",
        "  gdp_per_capita.rename(columns={\"2015\": \"GDP per capita\"}, inplace=True)\n",
        "  gdp_per_capita.set_index(\"Country\", inplace=True)\n",
        "  full_country_stats = pd.merge(left=oecd_bli, right=gdp_per_capica,\n",
        "                                left_index=True, right_index=True)\n",
        "  full_country_stats.sort_values(by=\"GDP per capita\", inplace=True)\n",
        "  remove_indices = [0,1,6,8,33,34,35]\n",
        "  keep_indices = list(set(range(36)) - set(remove_indices))\n",
        "  return full_country_stats[[\"GDP per capita\", 'Life satisfaction']].iloc[keep_indices]"
      ],
      "execution_count": 0,
      "outputs": []
    },
    {
      "cell_type": "code",
      "metadata": {
        "id": "XWUlNwO5a23r",
        "colab_type": "code",
        "colab": {}
      },
      "source": [
        "# load library\n",
        "import matplotlib\n",
        "import matplotlib.pyplot as plt\n",
        "import numpy as np\n",
        "import pandas as pd\n",
        "import sklearn"
      ],
      "execution_count": 0,
      "outputs": []
    },
    {
      "cell_type": "code",
      "metadata": {
        "id": "S7ljl9olcLB5",
        "colab_type": "code",
        "colab": {}
      },
      "source": [
        "# load dataset\n",
        "oecd_bli = pd.read_csv(\"oecd_bli_2015.csv\", thousands=',')\n",
        "gdp_per_capica = pd.read_csv(\"gdp_per_capita.csv\", thousands=',',delimiter='\\t',\n",
        "                              encoding='latin1',na_values='n/a')"
      ],
      "execution_count": 0,
      "outputs": []
    },
    {
      "cell_type": "code",
      "metadata": {
        "id": "ZwVuEKV_cVyP",
        "colab_type": "code",
        "colab": {}
      },
      "source": [
        "# prepare dataset\n",
        "country_stats = prepare_country_stats(oecd_bli, gdp_per_capica)\n",
        "X = np.c_[country_stats[\"GDP per capita\"]]\n",
        "Y = np.c_[country_stats[\"Life satisfaction\"]]"
      ],
      "execution_count": 0,
      "outputs": []
    },
    {
      "cell_type": "code",
      "metadata": {
        "id": "y1wzoP04gUFH",
        "colab_type": "code",
        "colab": {
          "base_uri": "https://localhost:8080/",
          "height": 283
        },
        "outputId": "ad8c8931-02b6-466c-c342-3f8c69f0e142"
      },
      "source": [
        "# Visulisation data\n",
        "country_stats.plot(kind='scatter', x=\"GDP per capita\", y=\"Life satisfaction\")\n",
        "plt.show()"
      ],
      "execution_count": 37,
      "outputs": [
        {
          "output_type": "display_data",
          "data": {
            "image/png": "[encoded data removed]",
            "text/plain": [
              "<Figure size 432x288 with 1 Axes>"
            ]
          },
          "metadata": {
            "tags": []
          }
        }
      ]
    },
    {
      "cell_type": "code",
      "metadata": {
        "id": "jlQukSlNmNp4",
        "colab_type": "code",
        "colab": {}
      },
      "source": [
        ""
      ],
      "execution_count": 0,
      "outputs": []
    }
  ]
}