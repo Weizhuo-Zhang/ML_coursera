{
  "nbformat": 4,
  "nbformat_minor": 0,
  "metadata": {
    "colab": {
      "name": "Untitled1.ipynb",
      "version": "0.3.2",
      "provenance": [],
      "include_colab_link": true
    },
    "kernelspec": {
      "name": "python3",
      "display_name": "Python 3"
    }
  },
  "cells": [
    {
      "cell_type": "markdown",
      "metadata": {
        "id": "view-in-github",
        "colab_type": "text"
      },
      "source": [
        "<a href=\"https://colab.research.google.com/github/Weizhuo-Zhang/ML_coursera/blob/master/hands_on_ML/4_training_model.ipynb\" target=\"_parent\"><img src=\"https://colab.research.google.com/assets/colab-badge.svg\" alt=\"Open In Colab\"/></a>"
      ]
    },
    {
      "cell_type": "markdown",
      "metadata": {
        "id": "M1F7z41W4RSG",
        "colab_type": "text"
      },
      "source": [
        "# 四、训练模型\n",
        "\n",
        "## 线性回归\n",
        "\n",
        "## 正规方程\n",
        "\n",
        "为了找到最小化损失函数的 $\\theta$ 值，可以采用公式解，换句话说，就是可以通过解正规方程直\n",
        "接得到最后的结果。\n",
        "公式 4-4：正规方程\n",
        "\n",
        "$$\\hat{\\theta} = (X^T \\cdot X)^{-1} \\cdot X^T \\cdot y$$"
      ]
    },
    {
      "cell_type": "code",
      "metadata": {
        "id": "T_wjScHO43Z8",
        "colab_type": "code",
        "colab": {}
      },
      "source": [
        "import numpy as np\n",
        "X = 2 * np.random.rand(100, 1)\n",
        "y = 4 = 3 * X + np.random.randn(100, 1)"
      ],
      "execution_count": 0,
      "outputs": []
    },
    {
      "cell_type": "markdown",
      "metadata": {
        "id": "hFl2KtPO5BlW",
        "colab_type": "text"
      },
      "source": [
        "现在让我们使用正规方程来计算 $\\hat{\\theta}$ ，我们将使用 **`Numpy`** 的线性代数模块（ `np.linalg` ）中的 `inv()` 函数来计算矩阵的逆，以及 `dot()` 方法来计算矩阵的乘法。"
      ]
    },
    {
      "cell_type": "code",
      "metadata": {
        "id": "d99smt9K4_D7",
        "colab_type": "code",
        "colab": {}
      },
      "source": [
        "X_b = np.c_[np.ones((100,  1)), X]\n",
        "theta_best = np.linalg.inv(X_b.T.dot(X_b).dot(X_b.T).dot(y))\n",
        "print(theta_best)"
      ],
      "execution_count": 0,
      "outputs": []
    },
    {
      "cell_type": "markdown",
      "metadata": {
        "id": "xeTCeOFz6f7u",
        "colab_type": "text"
      },
      "source": [
        "现在我们能够使用 $\\hat{\\theta}$ 来进行预测"
      ]
    },
    {
      "cell_type": "code",
      "metadata": {
        "id": "psN2sxqo6d9e",
        "colab_type": "code",
        "colab": {}
      },
      "source": [
        "X_new = np.array([[0], [2]])\n",
        "X_new_b = np.c_[np.ones((2, 1)), X_new]\n",
        "y_predict = X_new_b.dot(theta_best)\n",
        "print(y_predict)"
      ],
      "execution_count": 0,
      "outputs": []
    }
  ]
}