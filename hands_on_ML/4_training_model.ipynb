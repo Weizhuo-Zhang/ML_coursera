{
  "nbformat": 4,
  "nbformat_minor": 0,
  "metadata": {
    "colab": {
      "name": "Untitled1.ipynb",
      "version": "0.3.2",
      "provenance": [],
      "include_colab_link": true
    },
    "kernelspec": {
      "name": "python3",
      "display_name": "Python 3"
    }
  },
  "cells": [
    {
      "cell_type": "markdown",
      "metadata": {
        "id": "view-in-github",
        "colab_type": "text"
      },
      "source": [
        "<a href=\"https://colab.research.google.com/github/Weizhuo-Zhang/ML_coursera/blob/master/hands_on_ML/4_training_model.ipynb\" target=\"_parent\"><img src=\"https://colab.research.google.com/assets/colab-badge.svg\" alt=\"Open In Colab\"/></a>"
      ]
    },
    {
      "cell_type": "markdown",
      "metadata": {
        "id": "M1F7z41W4RSG",
        "colab_type": "text"
      },
      "source": [
        "# 四、训练模型\n",
        "\n",
        "## 线性回归\n",
        "\n",
        "## 正规方程 (The Normal Equation)\n",
        "\n",
        "为了找到最小化损失函数的 $\\theta$ 值，可以采用公式解，换句话说，就是可以通过解正规方程直\n",
        "接得到最后的结果。\n",
        "公式 4-4：正规方程\n",
        "\n",
        "$$\\hat{\\theta} = (X^T \\cdot X)^{-1} \\cdot X^T \\cdot y$$"
      ]
    },
    {
      "cell_type": "code",
      "metadata": {
        "id": "T_wjScHO43Z8",
        "colab_type": "code",
        "outputId": "6f54c8a1-11d7-4c11-cbc3-a994d30c1e14",
        "colab": {
          "base_uri": "https://localhost:8080/",
          "height": 269
        }
      },
      "source": [
        "import numpy as np\n",
        "import matplotlib.pyplot as plt\n",
        "X = 2 * np.random.rand(100, 1)\n",
        "y = 4 + 3 * X + np.random.randn(100, 1)\n",
        "plt.scatter(X, y)\n",
        "plt.show()"
      ],
      "execution_count": 68,
      "outputs": [
        {
          "output_type": "display_data",
          "data": {
            "image/png": "[encoded data removed]",
            "text/plain": [
              "<Figure size 432x288 with 1 Axes>"
            ]
          },
          "metadata": {
            "tags": []
          }
        }
      ]
    },
    {
      "cell_type": "markdown",
      "metadata": {
        "id": "hFl2KtPO5BlW",
        "colab_type": "text"
      },
      "source": [
        "现在让我们使用正规方程来计算 $\\hat{\\theta}$ ，我们将使用 **`Numpy`** 的线性代数模块（ `np.linalg` ）中的 `inv()` 函数来计算矩阵的逆，以及 `dot()` 方法来计算矩阵的乘法。"
      ]
    },
    {
      "cell_type": "code",
      "metadata": {
        "id": "d99smt9K4_D7",
        "colab_type": "code",
        "outputId": "bf8d7c00-f1bd-41c9-e18e-b481c2cf58e6",
        "colab": {
          "base_uri": "https://localhost:8080/",
          "height": 51
        }
      },
      "source": [
        "X_b = np.c_[np.ones((100,  1)), X]\n",
        "theta_best = np.linalg.inv(X_b.T.dot(X_b)).dot(X_b.T).dot(y)\n",
        "print(theta_best)"
      ],
      "execution_count": 69,
      "outputs": [
        {
          "output_type": "stream",
          "text": [
            "[[3.89694539]\n",
            " [2.98828112]]\n"
          ],
          "name": "stdout"
        }
      ]
    },
    {
      "cell_type": "markdown",
      "metadata": {
        "id": "xeTCeOFz6f7u",
        "colab_type": "text"
      },
      "source": [
        "现在我们能够使用 $\\hat{\\theta}$ 来进行预测"
      ]
    },
    {
      "cell_type": "code",
      "metadata": {
        "id": "psN2sxqo6d9e",
        "colab_type": "code",
        "outputId": "63586493-d34c-4297-c2ad-588f17bac939",
        "colab": {
          "base_uri": "https://localhost:8080/",
          "height": 51
        }
      },
      "source": [
        "X_new = np.array([[0], [2]])\n",
        "X_new_b = np.c_[np.ones((2, 1)), X_new]\n",
        "y_predict = X_new_b.dot(theta_best)\n",
        "print(y_predict)"
      ],
      "execution_count": 70,
      "outputs": [
        {
          "output_type": "stream",
          "text": [
            "[[3.89694539]\n",
            " [9.87350763]]\n"
          ],
          "name": "stdout"
        }
      ]
    },
    {
      "cell_type": "code",
      "metadata": {
        "id": "jIxCXkdtOC8Q",
        "colab_type": "code",
        "colab": {
          "base_uri": "https://localhost:8080/",
          "height": 269
        },
        "outputId": "260bcac5-8315-434b-8f2c-5d19c372aaea"
      },
      "source": [
        "plt.plot(X_new, y_predict, \"r-\")\n",
        "plt.plot(X, y, \"b.\")\n",
        "plt.axis([0,2,0,15])\n",
        "plt.show()"
      ],
      "execution_count": 71,
      "outputs": [
        {
          "output_type": "display_data",
          "data": {
            "image/png": "[encoded data removed]",
            "text/plain": [
              "<Figure size 432x288 with 1 Axes>"
            ]
          },
          "metadata": {
            "tags": []
          }
        }
      ]
    },
    {
      "cell_type": "markdown",
      "metadata": {
        "id": "zP0WFq9HfNvC",
        "colab_type": "text"
      },
      "source": [
        "使用下面的 **`Scikit-Learn`** 代码可以达到相同的效果："
      ]
    },
    {
      "cell_type": "code",
      "metadata": {
        "id": "UheylC8bfLWJ",
        "colab_type": "code",
        "colab": {
          "base_uri": "https://localhost:8080/",
          "height": 68
        },
        "outputId": "33f78572-0c57-4983-a73e-04144b7168e2"
      },
      "source": [
        "from sklearn.linear_model import LinearRegression\n",
        "lin_reg = LinearRegression()\n",
        "lin_reg.fit(X, y)\n",
        "print(lin_reg.intercept_, lin_reg.coef_)\n",
        "print(lin_reg.predict(X_new))"
      ],
      "execution_count": 72,
      "outputs": [
        {
          "output_type": "stream",
          "text": [
            "[3.89694539] [[2.98828112]]\n",
            "[[3.89694539]\n",
            " [9.87350763]]\n"
          ],
          "name": "stdout"
        }
      ]
    },
    {
      "cell_type": "markdown",
      "metadata": {
        "id": "1isR9JVgjnI0",
        "colab_type": "text"
      },
      "source": [
        "###  计算复杂度\n",
        "\n",
        "正规方程需要计算矩阵 $X^T \\cdot X$ 的逆，它是一个 $n*n$ 的矩阵（$n$ 是特征的个数）。这样一个矩阵求逆的运算复杂度大约在 $O(n^{2.4})$ 到 $O(n^3)$ 之间，具体值取决于计算方式。换句话说，如果你将你的特征个数翻倍的话，其计算时间大概会变为原来的 $5.3（ 2^{2.4}）$到 $8（ 2^3）$倍。\n",
        "\n",
        "当特征的个数较大的时候（例如：特征数量为 100000），正规方程求解将会非常慢。\n",
        "\n",
        "有利的一面是，这个方程在训练集上对于每一个实例来说是线性的，其复杂度为 $O(m)$，因此只要有能放得下它的内存空间，它就可以对大规模数据进行训练。同时，一旦你得到了线性回归模型（通过解正规方程或者其他的算法），进行预测是非常快的。因为模型中计算复杂度对于要进行预测的实例数量和特征个数都是线性的。 换句话说，当实例个数变为原来的两倍多的时候（或特征个数变为原来的两倍多），预测时间也仅仅是原来的两倍多。"
      ]
    },
    {
      "cell_type": "markdown",
      "metadata": {
        "id": "RdLhOP8sk8Fd",
        "colab_type": "text"
      },
      "source": [
        "## 梯度下降\n",
        "\n",
        "梯度下降是一种非常通用的优化算法，它能够很好地解决一系列问题。梯度下降的整体思路是通过的迭代来逐渐调整参数使得损失函数达到最小值。\n",
        "\n",
        "假设浓雾下，你迷失在了大山中，你只能感受到自己脚下的坡度。为了最快到达山底，一个最好的方法就是沿着坡度最陡的地方下山。这其实就是梯度下降所做的：它计算误差函数关于参数向量 $\\theta$ 的局部梯度，同时它沿着梯度下降的方向进行下一次迭代。当梯度值为零的时候，就达到了误差函数最小值 。\n",
        "\n",
        "具体来说，开始时，需要选定一个随机的 $\\theta$ （这个值称为随机初始值），然后逐渐去改进它，每一次变化一小步，每一步都试着降低损失函数（例如：均方差损失函数），直到算法收敛\n",
        "到一个最小值（如图：4-3）。"
      ]
    },
    {
      "cell_type": "markdown",
      "metadata": {
        "id": "rjRpr0xcmT8H",
        "colab_type": "text"
      },
      "source": [
        "**提示:**\n",
        "\n",
        "当我们使用梯度下降的时候，应该确保所有的特征有着相近的尺度范围（例如：使用 **`Scikit-Learn`** 的 `StandardScaler` 类），否则它将需要很长的时间才能够收敛。"
      ]
    },
    {
      "cell_type": "markdown",
      "metadata": {
        "id": "_NDYeFF-mmhv",
        "colab_type": "text"
      },
      "source": [
        "###   批量梯度下降"
      ]
    },
    {
      "cell_type": "code",
      "metadata": {
        "id": "FY49qCIghXky",
        "colab_type": "code",
        "colab": {
          "base_uri": "https://localhost:8080/",
          "height": 51
        },
        "outputId": "ea4649af-5444-48d2-a4b1-b172b0929a2e"
      },
      "source": [
        "eta = 0.1 # Learning Rate\n",
        "n_iterations = 1000\n",
        "m = 100\n",
        "\n",
        "theta = np.random.randn(2, 1)\n",
        "\n",
        "for iteration in range(n_iterations):\n",
        "  gradients = 2/m * X_b.T.dot(X_b.dot(theta) - y)\n",
        "  theta = theta - eta * gradients\n",
        "  \n",
        "print(theta)"
      ],
      "execution_count": 73,
      "outputs": [
        {
          "output_type": "stream",
          "text": [
            "[[3.89694539]\n",
            " [2.98828112]]\n"
          ],
          "name": "stdout"
        }
      ]
    },
    {
      "cell_type": "code",
      "metadata": {
        "id": "bxByhrYuncKx",
        "colab_type": "code",
        "colab": {
          "base_uri": "https://localhost:8080/",
          "height": 296
        },
        "outputId": "b53fcbf6-2071-45a1-d472-825d5300f32c"
      },
      "source": [
        "# 计算在不同的learning rate下，梯度下降前10步运算\n",
        "eta_list = [0.02, 0.1, 0.5]\n",
        "theta_original = np.random.randn(2,1)\n",
        "counter = 0\n",
        "plt.figure(figsize=(13, 4))\n",
        "for eta in eta_list:\n",
        "  counter += 1\n",
        "  theta = theta_original\n",
        "  plt.subplot(1,3,counter)\n",
        "  plt.xlim(0,2)\n",
        "  plt.ylim(0,14)\n",
        "  plt.xlabel('x1')\n",
        "  plt.ylabel('y')\n",
        "  plt.scatter(X, y)\n",
        "  plt.plot(X, X_b.dot(theta), 'b-')\n",
        "  for iteration in range(10):\n",
        "    gradients = 2/m * X_b.T.dot(X_b.dot(theta) - y)\n",
        "    theta = theta - eta * gradients\n",
        "    plt.plot(X, X_b.dot(theta), 'b-')\n",
        "\n",
        "  plt.title(\"$\\eta={0}$\".format(eta))\n",
        "plt.show()"
      ],
      "execution_count": 74,
      "outputs": [
        {
          "output_type": "display_data",
          "data": {
            "image/png": "[encoded data removed]",
            "text/plain": [
              "<Figure size 936x288 with 3 Axes>"
            ]
          },
          "metadata": {
            "tags": []
          }
        }
      ]
    },
    {
      "cell_type": "markdown",
      "metadata": {
        "id": "rXh4HT8BsIXS",
        "colab_type": "text"
      },
      "source": [
        "**收敛速率：**\n",
        "\n",
        "当损失函数是凸函数，同时它的斜率不能突变（就像均方差损失函数那样），那么它的批量梯度下降算法固定学习率之后，它的收敛速率是 $O(\\frac{1}{iterations})$  。换句话说，如果你将容差 $\\epsilon$ 缩小 10 倍后（这样可以得到一个更精确的结果），这个算法的迭代次数大约会变成原来的 10 倍。"
      ]
    },
    {
      "cell_type": "markdown",
      "metadata": {
        "id": "V6PuKmdXsuML",
        "colab_type": "text"
      },
      "source": [
        "### 随机梯度下降\n",
        "\n",
        "批量梯度下降的最要问题是计算每一步的梯度时都需要使用整个训练集，这导致在规模较大的数据集上，其会变得非常的慢。与其完全相反的随机梯度下降，在每一步的梯度计算上只随机选取训练集中的一个样本。很明显，由于每一次的操作都使用了非常少的数据，这样使\n",
        "得算法变得非常快。由于每一次迭代，只需要在内存中有一个实例，这使随机梯度算法可以在大规模训练集上使用。\n",
        "\n",
        "另一方面，由于它的随机性，与批量梯度下降相比，其呈现出更多的不规律性：它到达最小值不是平缓的下降，损失函数会忽高忽低，只是在大体上呈下降趋势。随着时间的推移，它会非常的靠近最小值，但是它不会停止在一个值上，它会一直在这个值附近摆动（如图 4-\n",
        "9）。因此，当算法停止的时候，最后的参数还不错，但不是最优值。\n",
        "\n",
        "当损失函数很不规则时（如图 4-6），随机梯度下降算法能够跳过局部最小值。因此，随机梯度下降在寻找全局最小值上比批量梯度下降表现要好。\n",
        "\n",
        "虽然随机性可以很好的跳过局部最优值，但同时它却不能达到最小值。解决这个难题的一个办法是逐渐降低学习率。 开始时，走的每一步较大（这有助于快速前进同时跳过局部最小值），然后变得越来越小，从而使算法到达全局最小值。 这个过程被称为模拟退火，因为它\n",
        "类似于熔融金属慢慢冷却的冶金学退火过程。 决定每次迭代的学习率的函数称为 `learning schedule` 。 如果学习速度降低得过快，你可能会陷入局部最小值，甚至在到达最小值的半路就停止了。 如果学习速度降低得太慢，你可能在最小值的附近长时间摆动，同时如果过早停止训练，最终只会出现次优解。\n",
        "\n",
        "下面的代码使用一个简单的 `learning schedule` 来实现随机梯度下降："
      ]
    },
    {
      "cell_type": "code",
      "metadata": {
        "id": "pDeCjevzqHWt",
        "colab_type": "code",
        "colab": {
          "base_uri": "https://localhost:8080/",
          "height": 51
        },
        "outputId": "10589547-5f06-4e3f-9655-e8d96e024989"
      },
      "source": [
        "n_epochs = 50\n",
        "t0, t1 = 5, 50\n",
        "\n",
        "def learning_schedule(t):\n",
        "  return t0 / (t + t1)\n",
        "\n",
        "theta = np.random.randn(2,1)\n",
        "\n",
        "for epoch in range(n_epochs):\n",
        "  for i in range(m):\n",
        "    random_index = np.random.randint(m)\n",
        "    xi = X_b[random_index:random_index+1]\n",
        "    yi = y[random_index:random_index+1]\n",
        "    gradients = 2 * xi.T.dot(xi.dot(theta)-yi)\n",
        "    eta = learning_schedule(epoch * m + i)\n",
        "    theta=theta - eta*gradients\n",
        "    \n",
        "print(theta)"
      ],
      "execution_count": 75,
      "outputs": [
        {
          "output_type": "stream",
          "text": [
            "[[3.89184317]\n",
            " [3.00568848]]\n"
          ],
          "name": "stdout"
        }
      ]
    },
    {
      "cell_type": "code",
      "metadata": {
        "id": "kFQNfI5xyrDy",
        "colab_type": "code",
        "colab": {
          "base_uri": "https://localhost:8080/",
          "height": 283
        },
        "outputId": "fda98f31-8ef2-4845-e20e-2eaef370b840"
      },
      "source": [
        "# 随机梯度下降前10步运算\n",
        "n_epochs = 10\n",
        "t0, t1 = 5, 50\n",
        "\n",
        "def learning_schedule(t):\n",
        "  return t0 / (t + t1)\n",
        "\n",
        "theta = np.random.randn(2,1)\n",
        "plt.plot(X, X_b.dot(theta), 'b-')\n",
        "\n",
        "for epoch in range(n_epochs):\n",
        "  for i in range(m):\n",
        "    random_index = np.random.randint(m)\n",
        "    xi = X_b[random_index:random_index+1]\n",
        "    yi = y[random_index:random_index+1]\n",
        "    gradients = 2 * xi.T.dot(xi.dot(theta)-yi)\n",
        "    eta = learning_schedule(epoch * m + i)\n",
        "    theta=theta - eta*gradients\n",
        "  plt.plot(X, X_b.dot(theta), 'b-')\n",
        "\n",
        "plt.scatter(X, y)\n",
        "plt.xlim(0,2)\n",
        "plt.ylim(0,14)\n",
        "plt.xlabel('x1')\n",
        "plt.ylabel('y') \n",
        "plt.show()"
      ],
      "execution_count": 76,
      "outputs": [
        {
          "output_type": "display_data",
          "data": {
            "image/png": "[encoded data removed]",
            "text/plain": [
              "<Figure size 432x288 with 1 Axes>"
            ]
          },
          "metadata": {
            "tags": []
          }
        }
      ]
    },
    {
      "cell_type": "markdown",
      "metadata": {
        "id": "MFFTKu9n0QY9",
        "colab_type": "text"
      },
      "source": [
        "通过使用 **`Scikit-Learn`** 完成线性回归的随机梯度下降，你需要使用 `SGDRegressor` 类，这个类默认优化的是均方差损失函数。下面的代码迭代了 50 代，其学习率 $\\eta$ 为0.1（ `eta0=0.1` ），使用默认的 `learning schedule` （与前面的不一样），同时也没有添加任何正则项（ `penalty = None` ）："
      ]
    },
    {
      "cell_type": "code",
      "metadata": {
        "id": "oaDDRvNF0IcE",
        "colab_type": "code",
        "colab": {
          "base_uri": "https://localhost:8080/",
          "height": 34
        },
        "outputId": "69adf022-9bb4-4ff1-ffa6-559cd1c5f0ed"
      },
      "source": [
        "from sklearn.linear_model import SGDRegressor\n",
        "sgd_reg = SGDRegressor( n_iter_no_change=50, penalty=None, eta0=0.1)\n",
        "sgd_reg.fit(X, y.ravel())\n",
        "print(sgd_reg.intercept_, sgd_reg.coef_)"
      ],
      "execution_count": 77,
      "outputs": [
        {
          "output_type": "stream",
          "text": [
            "[3.87277331] [2.96206863]\n"
          ],
          "name": "stdout"
        }
      ]
    },
    {
      "cell_type": "markdown",
      "metadata": {
        "id": "nIPh2DzG1PiI",
        "colab_type": "text"
      },
      "source": [
        "### 小批量梯度下降\n",
        "\n",
        "在迭代的每一步，批量梯度使用整个训练集，随机梯度时候用仅仅一个实例，在小批量梯度下降中，它则使用一个随机的小型实例集。它比随机梯度的主要优点在于你可以通过矩阵运算的硬件优化得到一个较好的训练表现，尤其当你使用 GPU 进行运算的时候。"
      ]
    },
    {
      "cell_type": "markdown",
      "metadata": {
        "id": "IFBekPxP3lMG",
        "colab_type": "text"
      },
      "source": [
        "## 多项式回归"
      ]
    },
    {
      "cell_type": "code",
      "metadata": {
        "id": "yBNiUa9d0-Ru",
        "colab_type": "code",
        "colab": {
          "base_uri": "https://localhost:8080/",
          "height": 269
        },
        "outputId": "6d69ea77-ac83-4fad-f612-19cdf1eb6d8c"
      },
      "source": [
        "m = 100\n",
        "X = 6 * np.random.rand(m, 1) - 3\n",
        "y = 0.5 * X**2 + X + 2 + np.random.randn(m, 1)\n",
        "plt.scatter(X, y)\n",
        "plt.show()"
      ],
      "execution_count": 78,
      "outputs": [
        {
          "output_type": "display_data",
          "data": {
            "image/png": "[encoded data removed]",
            "text/plain": [
              "<Figure size 432x288 with 1 Axes>"
            ]
          },
          "metadata": {
            "tags": []
          }
        }
      ]
    },
    {
      "cell_type": "markdown",
      "metadata": {
        "id": "_Nb3o9E3Xc9a",
        "colab_type": "text"
      },
      "source": [
        "很清楚的看出，直线不能恰当的拟合这些数据。于是，我们使用 `Scikit-Learning` 的 `PolynomialFeatures` 类进行训练数据集的转换，让训练集中每个特征的平方（2 次多项式）作为新特征（在这种情况下，仅存在一个特征）："
      ]
    },
    {
      "cell_type": "code",
      "metadata": {
        "id": "5Sf7Gkad9ww3",
        "colab_type": "code",
        "colab": {
          "base_uri": "https://localhost:8080/",
          "height": 51
        },
        "outputId": "3616aa7a-34da-46d5-cdb5-4289867b6f14"
      },
      "source": [
        "from sklearn.preprocessing import PolynomialFeatures\n",
        "poly_features = PolynomialFeatures(degree=2, include_bias=False)\n",
        "X_poly = poly_features.fit_transform(X)\n",
        "print(X[0])\n",
        "print(X_poly[0])"
      ],
      "execution_count": 79,
      "outputs": [
        {
          "output_type": "stream",
          "text": [
            "[-1.8288831]\n",
            "[-1.8288831   3.34481341]\n"
          ],
          "name": "stdout"
        }
      ]
    },
    {
      "cell_type": "code",
      "metadata": {
        "id": "gjau266KXyIs",
        "colab_type": "code",
        "colab": {
          "base_uri": "https://localhost:8080/",
          "height": 34
        },
        "outputId": "2bfb9b50-696c-46a8-a0ed-f5ae376ae7db"
      },
      "source": [
        "lin_reg = LinearRegression()\n",
        "lin_reg.fit(X_poly, y)\n",
        "print(lin_reg.intercept_, lin_reg.coef_)"
      ],
      "execution_count": 80,
      "outputs": [
        {
          "output_type": "stream",
          "text": [
            "[2.20643698] [[1.02099742 0.43773024]]\n"
          ],
          "name": "stdout"
        }
      ]
    },
    {
      "cell_type": "code",
      "metadata": {
        "id": "2K6XsnxOYD8d",
        "colab_type": "code",
        "colab": {
          "base_uri": "https://localhost:8080/",
          "height": 286
        },
        "outputId": "0dfc3f98-41f3-40cd-c6ae-944612c11916"
      },
      "source": [
        "X_line = np.linspace(X.min(), X.max(), 256, endpoint = True)\n",
        "X_line = X_line.reshape((256,1))\n",
        "X_line_poly = poly_features.fit_transform(X_line)\n",
        "y_line = X_line_poly.dot(lin_reg.coef_.T) + lin_reg.intercept_\n",
        "plt.scatter(X, y)\n",
        "plt.plot(X_line, y_line, 'r-')\n",
        "axes = plt.gca()\n",
        "axes.set_xlim([X.min(), X.max()])\n",
        "axes.set_ylim([y.min(), y.max()])"
      ],
      "execution_count": 124,
      "outputs": [
        {
          "output_type": "execute_result",
          "data": {
            "text/plain": [
              "(-1.0305792180250464, 10.302545781591993)"
            ]
          },
          "metadata": {
            "tags": []
          },
          "execution_count": 124
        },
        {
          "output_type": "display_data",
          "data": {
            "image/png": "[encoded data removed]",
            "text/plain": [
              "<Figure size 432x288 with 1 Axes>"
            ]
          },
          "metadata": {
            "tags": []
          }
        }
      ]
    },
    {
      "cell_type": "code",
      "metadata": {
        "id": "8T23D-yHhWxY",
        "colab_type": "code",
        "colab": {}
      },
      "source": [
        ""
      ],
      "execution_count": 0,
      "outputs": []
    }
  ]
}