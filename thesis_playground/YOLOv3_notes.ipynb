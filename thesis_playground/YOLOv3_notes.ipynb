{
 "cells": [
  {
   "cell_type": "markdown",
   "metadata": {},
   "source": [
    "# YOLO 学习笔记\n",
    "\n",
    "YOLO (You Only Look Once) 是一种基于深度神经网络(Deep Neural Network)的对象识别(Object Detection)和定位算法，其最大特点是运行速度很快，可以用于实时系统。现在已经发展到YOLOv3版本，本文将逐一介绍YOLO的3种版本。[[1]](https://zhuanlan.zhihu.com/p/46691043)\n",
    "\n",
    "## YOLO v1深入理解\n",
    "\n",
    "YOLO创造性的将[RCNN](#RCNN)中的候选区和对象识别这两个阶段合二为一，看一眼图片就能知道有哪些对象以及他们的位置。\n",
    "\n",
    "实际上，YOLO并没有真正去掉候选区，而是采用了预定义的候选区（准确点说应该是预测区，因为并不是Faster RCNN所采用的Anchor）。也就是将图片划分为 $7*7=49$ 个网格（grid），每个网格允许预测出2个边框（bounding box，包含某个对象的矩形框，总共 $49*2=98$ 个bounding box。可以理解为98个候选区，它们很粗略的覆盖了图片的整个区域。\n",
    "\n",
    "RCNN虽然会找到一些候选区，但毕竟只是候选，等真正识别出其中的对象以后，还要对候选区进行微调，使之更接近真实的bounding box。这个过程就是**边框回归**：将候选区bounding box调整到更接近真实的bounding box。\n",
    "\n",
    "既然反正最后都是要调整的，干嘛还要先费劲去寻找候选区呢，大致有个区域范围就行了，所以YOLO就这么干了。\n",
    "\n",
    "不过话说回来，边框回归为啥能起作用，我觉得本质上是因为 分类信息 中已经包含了 位置信息。就像你看到主子的脸和身体，就能推测出耳朵和屁股的位置。\n",
    "\n",
    "### YOLO 的实现方案\n",
    "#### 1) 结构\n",
    "\n",
    "去掉候选区这个步骤以后，YOLO的结构非常简单，就是单纯的卷积、池化最后加了两层全连接。单看网络结构的话，和普通的CNN对象分类网络几乎没有本质的区别，最大的差异是最后输出层用线性函数做激活函数，因为需要预测bounding box的位置（数值型），而不仅仅是对象的概率。所以粗略来说，YOLO的整个结构就是输入图片经过神经网络的变换得到一个输出的张量，如下图所示。\n",
    "\n",
    "**注意**\n",
    "每个Grid所回归所得的中心点坐标以及长宽，都是相对整张图而言，Bounding Box 的位置，而不是每个Grid中的中心点以及位置。"
   ]
  },
  {
   "cell_type": "markdown",
   "metadata": {},
   "source": [
    "## YOLO v2 / YOLO  9000深入理解\n",
    "\n",
    "## YOLO v3深入理解\n",
    "\n",
    "<a id=\"RCNN\"></a>\n",
    "## RCNN / Fast RCMM / Faster RCMM\n",
    "\n",
    "RCNN开创性的提出了候选区(Region Proposals)的方法，先从图片中搜索出一些可能存在对象的候选区(Selective Search)，大概2000个左右，然后对每个候选区进行对象识别。大幅提升了对象识别和定位的效率。\n",
    "\n",
    "不过RCNN的速度依然很慢，其处理一张图片大概需要49秒。因此又有了后续的Fast RCNN 和 Faster RFNN，针对RCNN的神经网络结构和候选区的算法不断改进，Faster RCNN已经可以达到一张图片0.2秒的处理速度。下图来自[R-CNN, Fast R-CNN, Faster R-CNN, YOLO — Object Detection Algorithms](https://towardsdatascience.com/r-cnn-fast-r-cnn-faster-r-cnn-yolo-object-detection-algorithms-36d53571365e)\n",
    "\n",
    "![图000000 RCNN系列处理速度](pics/rcnnsudubijiao.png)\n",
    "<center>\n",
    "    <br>\n",
    "    <div style=\"color:orange; border-bottom: 1px solid #d9d9d9;\n",
    "    display: inline-block;\n",
    "    color: #999;\n",
    "    padding: 2px;\">图000000 RCNN系列处理速度</div>\n",
    "</center>\n",
    "\n",
    "但总体来说，RCNN系列依然是两阶段处理模式：先提出候选区，再识别候选区中的对象。\n",
    "\n",
    "## References\n",
    "\n",
    "[1] <机器爱学习>YOLO v1深入理解"
   ]
  }
 ],
 "metadata": {
  "kernelspec": {
   "display_name": "Python 3",
   "language": "python",
   "name": "python3"
  },
  "language_info": {
   "codemirror_mode": {
    "name": "ipython",
    "version": 3
   },
   "file_extension": ".py",
   "mimetype": "text/x-python",
   "name": "python",
   "nbconvert_exporter": "python",
   "pygments_lexer": "ipython3",
   "version": "3.7.3"
  }
 },
 "nbformat": 4,
 "nbformat_minor": 2
}
