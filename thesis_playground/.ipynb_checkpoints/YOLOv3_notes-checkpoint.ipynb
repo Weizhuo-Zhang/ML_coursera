{
 "cells": [
  {
   "cell_type": "markdown",
   "metadata": {},
   "source": [
    "# YOLO 学习笔记\n",
    "\n",
    "YOLO (You Only Look Once) 是一种基于深度神经网络(Deep Neural Network)的对象识别(Object Detection)和定位算法，其最大特点是运行速度很快，可以用于实时系统。现在已经发展到YOLOv3版本，本文将逐一介绍YOLO的3种版本。[[1]](https://zhuanlan.zhihu.com/p/46691043)\n",
    "\n",
    "## YOLO v1深入理解\n",
    "\n",
    "YOLO创造性的将[RCNN](#RCNN)中的候选区和对象识别\n",
    "\n",
    "## YOLO v2 / YOLO  9000深入理解\n",
    "\n",
    "## YOLO v3深入理解\n",
    "\n",
    "<a id=\"RCNN\"></a>\n",
    "## RCNN / Fast RCMM / Faster RCMM\n",
    "\n",
    "RCNN开创性的提出了候选区(Region Proposals)的方法，先从图片中搜索出一些可能存在对象的候选区(Selective Search)，大概2000个左右，然后对每个候选区进行对象识别。大幅提升了对象识别和定位的效率。\n",
    "\n",
    "不过RCNN的速度依然很慢，其处理一张图片大概需要49秒。因此又有了后续的Fast RCNN 和 Faster RFNN，针对RCNN的神经网络结构和候选区的算法不断改进，Faster RCNN已经可以达到一张图片0.2秒的处理速度。下图来自[R-CNN, Fast R-CNN, Faster R-CNN, YOLO — Object Detection Algorithms](https://towardsdatascience.com/r-cnn-fast-r-cnn-faster-r-cnn-yolo-object-detection-algorithms-36d53571365e)\n",
    "\n",
    "![图000000 RCNN系列处理速度](pics/rcnnsudubijiao.png)\n",
    "<center>\n",
    "    <br>\n",
    "    <div style=\"color:orange; border-bottom: 1px solid #d9d9d9;\n",
    "    display: inline-block;\n",
    "    color: #999;\n",
    "    padding: 2px;\">图000000 RCNN系列处理速度</div>\n",
    "</center>\n",
    "\n",
    "但总体来说，RCNN系列依然是两阶段处理模式：先提出候选区，再识别候选区中的对象。\n",
    "\n",
    "## References\n",
    "\n",
    "[1] <机器爱学习>YOLO v1深入理解"
   ]
  }
 ],
 "metadata": {
  "kernelspec": {
   "display_name": "Python 3",
   "language": "python",
   "name": "python3"
  },
  "language_info": {
   "codemirror_mode": {
    "name": "ipython",
    "version": 3
   },
   "file_extension": ".py",
   "mimetype": "text/x-python",
   "name": "python",
   "nbconvert_exporter": "python",
   "pygments_lexer": "ipython3",
   "version": "3.7.3"
  }
 },
 "nbformat": 4,
 "nbformat_minor": 2
}
